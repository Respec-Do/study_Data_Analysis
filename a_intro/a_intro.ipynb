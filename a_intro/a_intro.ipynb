{
 "cells": [
  {
   "cell_type": "markdown",
   "id": "f3aba145-8fef-4f38-9378-146b4890c9f2",
   "metadata": {},
   "source": [
    "### Data Analysis\n",
    "- 원시(원본 그대로) 데이터를 분석하여 인사이트(가시성 증가 및 깊은 이해)로 변환하는 작업이다.\n",
    "- 문제를 해결하기 위해 데이터를 사용해서 흐름 및 방향을 찾는 기술이다.\n",
    "- 데이터 분석을 통해 비지니스 프로세스를 구성하고, 의사 결정을 개선하며, 비지니스 성장을 증진할 수 있다.\n",
    "\n",
    "<img src=\"./images/architecture.png\" width=\"900px\" style=\"margin-left: 10px;\">\n",
    "** <sub>ETL은 Extract(추출), Transform(변환), Load(적재)를 의미한다. 여기 저기 흩어진 데이터를 하나로 모으기 위한 결합 과정이다.</sub>"
   ]
  },
  {
   "cell_type": "markdown",
   "id": "66615d3e-90d2-4aff-b282-ae6216fcc2bd",
   "metadata": {},
   "source": [
    "### 기초 통계 (Basic statistics)\n",
    "📌 통계는 아직 발생하지 않은 일을 예측하기 위해 사용한다.\n",
    "- 통계학을 공부하는 데 있어 필요한 기본 개념이고,  \n",
    "  수량적인 비교를 기초로 많은 사실을 관찰하고 처리하는 방법을 연구하는 학문이다.\n",
    "- 불균형 데이터를 대상으로 규칙성과 불규칙성을 발견한 뒤 실생활에 적용할 수 있다.\n",
    "\n",
    "<img src=\"./images/statistics01.png\" style=\"margin-top: 20px\">"
   ]
  },
  {
   "cell_type": "markdown",
   "id": "00b80ab7-cc42-4a70-b125-7f9b3005518b",
   "metadata": {},
   "source": [
    "#### 변량 (Variable)\n",
    "- 자료의 수치를 변량이라고 하며, 이는 데이터의 값을 의미한다."
   ]
  },
  {
   "cell_type": "code",
   "execution_count": 3,
   "id": "aa25c7a2-e8cd-4a24-9e44-6a904fd261e6",
   "metadata": {},
   "outputs": [
    {
     "data": {
      "text/html": [
       "<div>\n",
       "<style scoped>\n",
       "    .dataframe tbody tr th:only-of-type {\n",
       "        vertical-align: middle;\n",
       "    }\n",
       "\n",
       "    .dataframe tbody tr th {\n",
       "        vertical-align: top;\n",
       "    }\n",
       "\n",
       "    .dataframe thead th {\n",
       "        text-align: right;\n",
       "    }\n",
       "</style>\n",
       "<table border=\"1\" class=\"dataframe\">\n",
       "  <thead>\n",
       "    <tr style=\"text-align: right;\">\n",
       "      <th></th>\n",
       "      <th>서울</th>\n",
       "      <th>경기</th>\n",
       "      <th>인천</th>\n",
       "      <th>광주</th>\n",
       "      <th>대구</th>\n",
       "      <th>부산</th>\n",
       "      <th>전주</th>\n",
       "      <th>강릉</th>\n",
       "      <th>울산</th>\n",
       "      <th>수원</th>\n",
       "    </tr>\n",
       "  </thead>\n",
       "  <tbody>\n",
       "    <tr>\n",
       "      <th>0</th>\n",
       "      <td>184</td>\n",
       "      <td>162</td>\n",
       "      <td>159</td>\n",
       "      <td>163</td>\n",
       "      <td>185</td>\n",
       "      <td>179</td>\n",
       "      <td>168</td>\n",
       "      <td>159</td>\n",
       "      <td>178</td>\n",
       "      <td>189</td>\n",
       "    </tr>\n",
       "    <tr>\n",
       "      <th>1</th>\n",
       "      <td>157</td>\n",
       "      <td>179</td>\n",
       "      <td>182</td>\n",
       "      <td>177</td>\n",
       "      <td>181</td>\n",
       "      <td>180</td>\n",
       "      <td>160</td>\n",
       "      <td>176</td>\n",
       "      <td>188</td>\n",
       "      <td>164</td>\n",
       "    </tr>\n",
       "    <tr>\n",
       "      <th>2</th>\n",
       "      <td>179</td>\n",
       "      <td>174</td>\n",
       "      <td>158</td>\n",
       "      <td>184</td>\n",
       "      <td>183</td>\n",
       "      <td>171</td>\n",
       "      <td>167</td>\n",
       "      <td>154</td>\n",
       "      <td>179</td>\n",
       "      <td>184</td>\n",
       "    </tr>\n",
       "    <tr>\n",
       "      <th>3</th>\n",
       "      <td>174</td>\n",
       "      <td>179</td>\n",
       "      <td>180</td>\n",
       "      <td>183</td>\n",
       "      <td>169</td>\n",
       "      <td>156</td>\n",
       "      <td>182</td>\n",
       "      <td>176</td>\n",
       "      <td>179</td>\n",
       "      <td>159</td>\n",
       "    </tr>\n",
       "    <tr>\n",
       "      <th>4</th>\n",
       "      <td>163</td>\n",
       "      <td>160</td>\n",
       "      <td>167</td>\n",
       "      <td>161</td>\n",
       "      <td>176</td>\n",
       "      <td>184</td>\n",
       "      <td>165</td>\n",
       "      <td>158</td>\n",
       "      <td>168</td>\n",
       "      <td>183</td>\n",
       "    </tr>\n",
       "    <tr>\n",
       "      <th>5</th>\n",
       "      <td>161</td>\n",
       "      <td>166</td>\n",
       "      <td>182</td>\n",
       "      <td>156</td>\n",
       "      <td>169</td>\n",
       "      <td>168</td>\n",
       "      <td>156</td>\n",
       "      <td>166</td>\n",
       "      <td>188</td>\n",
       "      <td>174</td>\n",
       "    </tr>\n",
       "    <tr>\n",
       "      <th>6</th>\n",
       "      <td>180</td>\n",
       "      <td>186</td>\n",
       "      <td>183</td>\n",
       "      <td>181</td>\n",
       "      <td>183</td>\n",
       "      <td>164</td>\n",
       "      <td>154</td>\n",
       "      <td>172</td>\n",
       "      <td>183</td>\n",
       "      <td>173</td>\n",
       "    </tr>\n",
       "    <tr>\n",
       "      <th>7</th>\n",
       "      <td>168</td>\n",
       "      <td>164</td>\n",
       "      <td>174</td>\n",
       "      <td>158</td>\n",
       "      <td>167</td>\n",
       "      <td>151</td>\n",
       "      <td>180</td>\n",
       "      <td>168</td>\n",
       "      <td>164</td>\n",
       "      <td>159</td>\n",
       "    </tr>\n",
       "    <tr>\n",
       "      <th>8</th>\n",
       "      <td>181</td>\n",
       "      <td>154</td>\n",
       "      <td>188</td>\n",
       "      <td>168</td>\n",
       "      <td>156</td>\n",
       "      <td>162</td>\n",
       "      <td>174</td>\n",
       "      <td>177</td>\n",
       "      <td>172</td>\n",
       "      <td>175</td>\n",
       "    </tr>\n",
       "    <tr>\n",
       "      <th>9</th>\n",
       "      <td>184</td>\n",
       "      <td>182</td>\n",
       "      <td>154</td>\n",
       "      <td>177</td>\n",
       "      <td>184</td>\n",
       "      <td>162</td>\n",
       "      <td>155</td>\n",
       "      <td>187</td>\n",
       "      <td>181</td>\n",
       "      <td>152</td>\n",
       "    </tr>\n",
       "  </tbody>\n",
       "</table>\n",
       "</div>"
      ],
      "text/plain": [
       "    서울   경기   인천   광주   대구   부산   전주   강릉   울산   수원\n",
       "0  184  162  159  163  185  179  168  159  178  189\n",
       "1  157  179  182  177  181  180  160  176  188  164\n",
       "2  179  174  158  184  183  171  167  154  179  184\n",
       "3  174  179  180  183  169  156  182  176  179  159\n",
       "4  163  160  167  161  176  184  165  158  168  183\n",
       "5  161  166  182  156  169  168  156  166  188  174\n",
       "6  180  186  183  181  183  164  154  172  183  173\n",
       "7  168  164  174  158  167  151  180  168  164  159\n",
       "8  181  154  188  168  156  162  174  177  172  175\n",
       "9  184  182  154  177  184  162  155  187  181  152"
      ]
     },
     "metadata": {},
     "output_type": "display_data"
    }
   ],
   "source": [
    "# 지역 별 총 100명의 키\n",
    "import pandas as pd\n",
    "import numpy as np\n",
    "\n",
    "df = pd.DataFrame(np.random.randint(151, 190, size=(10, 10)), \\\n",
    "                  columns=\"서울,경기,인천,광주,대구,부산,전주,강릉,울산,수원\".split(\",\"))\n",
    "display(df)"
   ]
  },
  {
   "cell_type": "code",
   "execution_count": 4,
   "id": "086341f5-1b3a-4dd7-a018-b9286691dc1d",
   "metadata": {},
   "outputs": [
    {
     "name": "stdout",
     "output_type": "stream",
     "text": [
      "128 µs ± 45.2 µs per loop (mean ± std. dev. of 10 runs, 100 loops each)\n"
     ]
    }
   ],
   "source": [
    "%%timeit -n 100 -r 10\n",
    "\n",
    "import pandas as pd\n",
    "import random\n",
    "\n",
    "df = pd.DataFrame([[random.randrange(151, 190) for _ in range(10)] for _ in range(10)], \\\n",
    "                  columns=\"서울,경기,인천,광주,대구,부산,전주,강릉,울산,수원\".split(\",\"))"
   ]
  },
  {
   "cell_type": "code",
   "execution_count": 5,
   "id": "a6d21d19-465c-4059-a826-0a97e3120d0d",
   "metadata": {},
   "outputs": [
    {
     "name": "stdout",
     "output_type": "stream",
     "text": [
      "46.3 µs ± 24.4 µs per loop (mean ± std. dev. of 10 runs, 100 loops each)\n"
     ]
    }
   ],
   "source": [
    "%%timeit -n 100 -r 10\n",
    "\n",
    "import pandas as pd\n",
    "import numpy as np\n",
    "\n",
    "df = pd.DataFrame(np.random.randint(151, 190, size=(10, 10)), \\\n",
    "                  columns=\"서울,경기,인천,광주,대구,부산,전주,강릉,울산,수원\".split(\",\"))"
   ]
  },
  {
   "cell_type": "markdown",
   "id": "327f9e3e-ca31-43e8-91db-d335038c60b0",
   "metadata": {},
   "source": [
    "#### 계급 (Class)\n",
    "- 변량을 일정 간격으로 나눈 구간을 의미한다.\n",
    "- 변량의 최소값과 최대값을 잘 고려해서 계급을 정해야한다.\n",
    "- 예를 들어, 150 ~ 160 계급이 있을 경우, 160까지 속한다. 즉 151 ~ 160 까지이다."
   ]
  },
  {
   "cell_type": "code",
   "execution_count": 8,
   "id": "b120a586-7bfd-4dfb-9b5d-dee8bb4f8080",
   "metadata": {},
   "outputs": [
    {
     "data": {
      "text/html": [
       "<div>\n",
       "<style scoped>\n",
       "    .dataframe tbody tr th:only-of-type {\n",
       "        vertical-align: middle;\n",
       "    }\n",
       "\n",
       "    .dataframe tbody tr th {\n",
       "        vertical-align: top;\n",
       "    }\n",
       "\n",
       "    .dataframe thead th {\n",
       "        text-align: right;\n",
       "    }\n",
       "</style>\n",
       "<table border=\"1\" class=\"dataframe\">\n",
       "  <thead>\n",
       "    <tr style=\"text-align: right;\">\n",
       "      <th></th>\n",
       "      <th>서울</th>\n",
       "      <th>계급</th>\n",
       "    </tr>\n",
       "  </thead>\n",
       "  <tbody>\n",
       "    <tr>\n",
       "      <th>0</th>\n",
       "      <td>184</td>\n",
       "      <td>(180, 190]</td>\n",
       "    </tr>\n",
       "    <tr>\n",
       "      <th>1</th>\n",
       "      <td>157</td>\n",
       "      <td>(150, 160]</td>\n",
       "    </tr>\n",
       "    <tr>\n",
       "      <th>2</th>\n",
       "      <td>179</td>\n",
       "      <td>(170, 180]</td>\n",
       "    </tr>\n",
       "    <tr>\n",
       "      <th>3</th>\n",
       "      <td>174</td>\n",
       "      <td>(170, 180]</td>\n",
       "    </tr>\n",
       "    <tr>\n",
       "      <th>4</th>\n",
       "      <td>163</td>\n",
       "      <td>(160, 170]</td>\n",
       "    </tr>\n",
       "    <tr>\n",
       "      <th>5</th>\n",
       "      <td>161</td>\n",
       "      <td>(160, 170]</td>\n",
       "    </tr>\n",
       "    <tr>\n",
       "      <th>6</th>\n",
       "      <td>180</td>\n",
       "      <td>(170, 180]</td>\n",
       "    </tr>\n",
       "    <tr>\n",
       "      <th>7</th>\n",
       "      <td>168</td>\n",
       "      <td>(160, 170]</td>\n",
       "    </tr>\n",
       "    <tr>\n",
       "      <th>8</th>\n",
       "      <td>181</td>\n",
       "      <td>(180, 190]</td>\n",
       "    </tr>\n",
       "    <tr>\n",
       "      <th>9</th>\n",
       "      <td>184</td>\n",
       "      <td>(180, 190]</td>\n",
       "    </tr>\n",
       "  </tbody>\n",
       "</table>\n",
       "</div>"
      ],
      "text/plain": [
       "    서울          계급\n",
       "0  184  (180, 190]\n",
       "1  157  (150, 160]\n",
       "2  179  (170, 180]\n",
       "3  174  (170, 180]\n",
       "4  163  (160, 170]\n",
       "5  161  (160, 170]\n",
       "6  180  (170, 180]\n",
       "7  168  (160, 170]\n",
       "8  181  (180, 190]\n",
       "9  184  (180, 190]"
      ]
     },
     "execution_count": 8,
     "metadata": {},
     "output_type": "execute_result"
    }
   ],
   "source": [
    "df_seoul = df['서울']\n",
    "df_class = pd.cut(df_seoul, bins=[150,160,170,180,190])\n",
    "df_seoul_class=pd.DataFrame({'서울' : df_seoul, '계급' : df_class})\n",
    "df_seoul_class"
   ]
  },
  {
   "cell_type": "markdown",
   "id": "d64f975c-9666-4176-8b1f-789caf6632bd",
   "metadata": {},
   "source": [
    "#### 도수 (Frequency)\n",
    "- 각 계급에 속하는 변량의 개수를 의미한다."
   ]
  },
  {
   "cell_type": "code",
   "execution_count": 9,
   "id": "65e1c25e-62de-4d1f-8628-4733a9ed0dca",
   "metadata": {},
   "outputs": [
    {
     "data": {
      "text/html": [
       "<div>\n",
       "<style scoped>\n",
       "    .dataframe tbody tr th:only-of-type {\n",
       "        vertical-align: middle;\n",
       "    }\n",
       "\n",
       "    .dataframe tbody tr th {\n",
       "        vertical-align: top;\n",
       "    }\n",
       "\n",
       "    .dataframe thead th {\n",
       "        text-align: right;\n",
       "    }\n",
       "</style>\n",
       "<table border=\"1\" class=\"dataframe\">\n",
       "  <thead>\n",
       "    <tr style=\"text-align: right;\">\n",
       "      <th></th>\n",
       "      <th>서울</th>\n",
       "    </tr>\n",
       "    <tr>\n",
       "      <th>계급</th>\n",
       "      <th></th>\n",
       "    </tr>\n",
       "  </thead>\n",
       "  <tbody>\n",
       "    <tr>\n",
       "      <th>(150, 160]</th>\n",
       "      <td>1</td>\n",
       "    </tr>\n",
       "    <tr>\n",
       "      <th>(160, 170]</th>\n",
       "      <td>3</td>\n",
       "    </tr>\n",
       "    <tr>\n",
       "      <th>(170, 180]</th>\n",
       "      <td>3</td>\n",
       "    </tr>\n",
       "    <tr>\n",
       "      <th>(180, 190]</th>\n",
       "      <td>3</td>\n",
       "    </tr>\n",
       "  </tbody>\n",
       "</table>\n",
       "</div>"
      ],
      "text/plain": [
       "            서울\n",
       "계급            \n",
       "(150, 160]   1\n",
       "(160, 170]   3\n",
       "(170, 180]   3\n",
       "(180, 190]   3"
      ]
     },
     "execution_count": 9,
     "metadata": {},
     "output_type": "execute_result"
    }
   ],
   "source": [
    "df_seoul_class.groupby('계급', observed=True).count()"
   ]
  },
  {
   "cell_type": "markdown",
   "id": "ec1cd17b-18d2-4673-bf7f-e5319afcaf23",
   "metadata": {},
   "source": [
    "#### 상대 도수 (Relative frequency)\n",
    "- 각 계급에 속하는 변량의 비율을 의미한다."
   ]
  },
  {
   "cell_type": "code",
   "execution_count": 13,
   "id": "7b713092-f00c-4b63-bc06-c095bdbd398d",
   "metadata": {},
   "outputs": [
    {
     "data": {
      "text/html": [
       "<div>\n",
       "<style scoped>\n",
       "    .dataframe tbody tr th:only-of-type {\n",
       "        vertical-align: middle;\n",
       "    }\n",
       "\n",
       "    .dataframe tbody tr th {\n",
       "        vertical-align: top;\n",
       "    }\n",
       "\n",
       "    .dataframe thead th {\n",
       "        text-align: right;\n",
       "    }\n",
       "</style>\n",
       "<table border=\"1\" class=\"dataframe\">\n",
       "  <thead>\n",
       "    <tr style=\"text-align: right;\">\n",
       "      <th></th>\n",
       "      <th>서울</th>\n",
       "    </tr>\n",
       "    <tr>\n",
       "      <th>계급</th>\n",
       "      <th></th>\n",
       "    </tr>\n",
       "  </thead>\n",
       "  <tbody>\n",
       "    <tr>\n",
       "      <th>(150, 160]</th>\n",
       "      <td>0.01</td>\n",
       "    </tr>\n",
       "    <tr>\n",
       "      <th>(160, 170]</th>\n",
       "      <td>0.03</td>\n",
       "    </tr>\n",
       "    <tr>\n",
       "      <th>(170, 180]</th>\n",
       "      <td>0.03</td>\n",
       "    </tr>\n",
       "    <tr>\n",
       "      <th>(180, 190]</th>\n",
       "      <td>0.03</td>\n",
       "    </tr>\n",
       "  </tbody>\n",
       "</table>\n",
       "</div>"
      ],
      "text/plain": [
       "              서울\n",
       "계급              \n",
       "(150, 160]  0.01\n",
       "(160, 170]  0.03\n",
       "(170, 180]  0.03\n",
       "(180, 190]  0.03"
      ]
     },
     "execution_count": 13,
     "metadata": {},
     "output_type": "execute_result"
    }
   ],
   "source": [
    "df_seoul_class.groupby('계급', observed=False).count().apply(lambda x: x / 100)"
   ]
  },
  {
   "cell_type": "markdown",
   "id": "6cf85af5-e4db-4298-91c0-064a3602f857",
   "metadata": {},
   "source": [
    "#### 도수분포표(Frequency table)\n",
    "- 주어진 자료를 계급별로 나눈 뒤 각 계급에 속하는 도수 및 상대 도수를 조사한 표이다.\n",
    "- 구간별 분포를 한 번에 알아보기 좋지만 계급별 각 변량의 정확한 값이 생략되어 있다."
   ]
  },
  {
   "cell_type": "code",
   "execution_count": 14,
   "id": "63379dfb-0f30-47b4-8c15-3087f6de22a3",
   "metadata": {},
   "outputs": [
    {
     "data": {
      "text/html": [
       "<div>\n",
       "<style scoped>\n",
       "    .dataframe tbody tr th:only-of-type {\n",
       "        vertical-align: middle;\n",
       "    }\n",
       "\n",
       "    .dataframe tbody tr th {\n",
       "        vertical-align: top;\n",
       "    }\n",
       "\n",
       "    .dataframe thead th {\n",
       "        text-align: right;\n",
       "    }\n",
       "</style>\n",
       "<table border=\"1\" class=\"dataframe\">\n",
       "  <thead>\n",
       "    <tr style=\"text-align: right;\">\n",
       "      <th></th>\n",
       "      <th>도수</th>\n",
       "      <th>상대도수</th>\n",
       "    </tr>\n",
       "    <tr>\n",
       "      <th>계급</th>\n",
       "      <th></th>\n",
       "      <th></th>\n",
       "    </tr>\n",
       "  </thead>\n",
       "  <tbody>\n",
       "    <tr>\n",
       "      <th>(150, 160]</th>\n",
       "      <td>1</td>\n",
       "      <td>0.01</td>\n",
       "    </tr>\n",
       "    <tr>\n",
       "      <th>(160, 170]</th>\n",
       "      <td>3</td>\n",
       "      <td>0.03</td>\n",
       "    </tr>\n",
       "    <tr>\n",
       "      <th>(170, 180]</th>\n",
       "      <td>3</td>\n",
       "      <td>0.03</td>\n",
       "    </tr>\n",
       "    <tr>\n",
       "      <th>(180, 190]</th>\n",
       "      <td>3</td>\n",
       "      <td>0.03</td>\n",
       "    </tr>\n",
       "  </tbody>\n",
       "</table>\n",
       "</div>"
      ],
      "text/plain": [
       "            도수  상대도수\n",
       "계급                  \n",
       "(150, 160]   1  0.01\n",
       "(160, 170]   3  0.03\n",
       "(170, 180]   3  0.03\n",
       "(180, 190]   3  0.03"
      ]
     },
     "metadata": {},
     "output_type": "display_data"
    }
   ],
   "source": [
    "freq_df = pd.DataFrame({\"도수\": df_seoul_class.groupby('계급', observed=False).count()[\"서울\"], \\\n",
    "             \"상대도수\": df_seoul_class.groupby('계급', observed=False).count().apply(lambda x: x / 100)[\"서울\"]})\n",
    "display(freq_df)"
   ]
  },
  {
   "cell_type": "code",
   "execution_count": 15,
   "id": "39b18a32-f690-4fae-a901-3780d8dafcbf",
   "metadata": {},
   "outputs": [
    {
     "data": {
      "text/html": [
       "<div>\n",
       "<style scoped>\n",
       "    .dataframe tbody tr th:only-of-type {\n",
       "        vertical-align: middle;\n",
       "    }\n",
       "\n",
       "    .dataframe tbody tr th {\n",
       "        vertical-align: top;\n",
       "    }\n",
       "\n",
       "    .dataframe thead th {\n",
       "        text-align: right;\n",
       "    }\n",
       "</style>\n",
       "<table border=\"1\" class=\"dataframe\">\n",
       "  <thead>\n",
       "    <tr style=\"text-align: right;\">\n",
       "      <th></th>\n",
       "      <th>계급</th>\n",
       "      <th>도수</th>\n",
       "      <th>상대도수</th>\n",
       "    </tr>\n",
       "  </thead>\n",
       "  <tbody>\n",
       "    <tr>\n",
       "      <th>0</th>\n",
       "      <td>(150, 160]</td>\n",
       "      <td>1</td>\n",
       "      <td>0.01</td>\n",
       "    </tr>\n",
       "    <tr>\n",
       "      <th>1</th>\n",
       "      <td>(160, 170]</td>\n",
       "      <td>3</td>\n",
       "      <td>0.03</td>\n",
       "    </tr>\n",
       "    <tr>\n",
       "      <th>2</th>\n",
       "      <td>(170, 180]</td>\n",
       "      <td>3</td>\n",
       "      <td>0.03</td>\n",
       "    </tr>\n",
       "    <tr>\n",
       "      <th>3</th>\n",
       "      <td>(180, 190]</td>\n",
       "      <td>3</td>\n",
       "      <td>0.03</td>\n",
       "    </tr>\n",
       "  </tbody>\n",
       "</table>\n",
       "</div>"
      ],
      "text/plain": [
       "           계급  도수  상대도수\n",
       "0  (150, 160]   1  0.01\n",
       "1  (160, 170]   3  0.03\n",
       "2  (170, 180]   3  0.03\n",
       "3  (180, 190]   3  0.03"
      ]
     },
     "execution_count": 15,
     "metadata": {},
     "output_type": "execute_result"
    }
   ],
   "source": [
    "freq_df.reset_index(drop=False)"
   ]
  },
  {
   "cell_type": "markdown",
   "id": "5035de80-0222-40e4-b036-c5d5c1b74989",
   "metadata": {},
   "source": [
    "#### 히스토그램 (Histogram)\n",
    "- 도수분포표를 시각화한 그래프이다."
   ]
  },
  {
   "cell_type": "code",
   "execution_count": 17,
   "id": "f1d13e11-e2b7-4505-abbf-4ef686546760",
   "metadata": {},
   "outputs": [
    {
     "data": {
      "text/plain": [
       "<Axes: >"
      ]
     },
     "execution_count": 17,
     "metadata": {},
     "output_type": "execute_result"
    },
    {
     "data": {
      "image/png": "[encoded data removed]",
      "text/plain": [
       "<Figure size 640x480 with 1 Axes>"
      ]
     },
     "metadata": {},
     "output_type": "display_data"
    }
   ],
   "source": [
    "import matplotlib.pyplot as plt\n",
    "import numpy as np\n",
    "\n",
    "df_seoul_class[\"서울\"].hist(bins=4)"
   ]
  },
  {
   "cell_type": "markdown",
   "id": "880cfa92-39b5-4b1f-a171-e95a6d1cf4ab",
   "metadata": {},
   "source": [
    "#### 산술 평균 (Mean)\n",
    "- 변량의 합을 변량의 수로 나눈 값을 의미한다.\n",
    "\n",
    "<img src=\"./images/mean.png\" style=\"margin-left : 20px;\">"
   ]
  },
  {
   "cell_type": "code",
   "execution_count": 18,
   "id": "2b04f16f-6928-4ad5-a16e-be553b77d2e0",
   "metadata": {},
   "outputs": [
    {
     "data": {
      "text/html": [
       "<div>\n",
       "<style scoped>\n",
       "    .dataframe tbody tr th:only-of-type {\n",
       "        vertical-align: middle;\n",
       "    }\n",
       "\n",
       "    .dataframe tbody tr th {\n",
       "        vertical-align: top;\n",
       "    }\n",
       "\n",
       "    .dataframe thead th {\n",
       "        text-align: right;\n",
       "    }\n",
       "</style>\n",
       "<table border=\"1\" class=\"dataframe\">\n",
       "  <thead>\n",
       "    <tr style=\"text-align: right;\">\n",
       "      <th></th>\n",
       "      <th>평균 키</th>\n",
       "    </tr>\n",
       "  </thead>\n",
       "  <tbody>\n",
       "    <tr>\n",
       "      <th>서울</th>\n",
       "      <td>173.1</td>\n",
       "    </tr>\n",
       "    <tr>\n",
       "      <th>경기</th>\n",
       "      <td>170.6</td>\n",
       "    </tr>\n",
       "    <tr>\n",
       "      <th>인천</th>\n",
       "      <td>172.7</td>\n",
       "    </tr>\n",
       "    <tr>\n",
       "      <th>광주</th>\n",
       "      <td>170.8</td>\n",
       "    </tr>\n",
       "    <tr>\n",
       "      <th>대구</th>\n",
       "      <td>175.3</td>\n",
       "    </tr>\n",
       "    <tr>\n",
       "      <th>부산</th>\n",
       "      <td>167.7</td>\n",
       "    </tr>\n",
       "    <tr>\n",
       "      <th>전주</th>\n",
       "      <td>166.1</td>\n",
       "    </tr>\n",
       "    <tr>\n",
       "      <th>강릉</th>\n",
       "      <td>169.3</td>\n",
       "    </tr>\n",
       "    <tr>\n",
       "      <th>울산</th>\n",
       "      <td>178.0</td>\n",
       "    </tr>\n",
       "    <tr>\n",
       "      <th>수원</th>\n",
       "      <td>171.2</td>\n",
       "    </tr>\n",
       "  </tbody>\n",
       "</table>\n",
       "</div>"
      ],
      "text/plain": [
       "     평균 키\n",
       "서울  173.1\n",
       "경기  170.6\n",
       "인천  172.7\n",
       "광주  170.8\n",
       "대구  175.3\n",
       "부산  167.7\n",
       "전주  166.1\n",
       "강릉  169.3\n",
       "울산  178.0\n",
       "수원  171.2"
      ]
     },
     "execution_count": 18,
     "metadata": {},
     "output_type": "execute_result"
    }
   ],
   "source": [
    "df.mean(axis=0).to_frame(name='평균 키')"
   ]
  },
  {
   "cell_type": "markdown",
   "id": "177ba471-cff5-4626-a84e-d514d9b39fcc",
   "metadata": {},
   "source": [
    "#### 편차 (Deviation)\n",
    "- 변량에서 평균을 뺀 값이다.\n",
    "- 각 변량의 편차를 구한 뒤, 모두 합하면 0이 되기 때문에 편차의 평균을 구할 수 없다."
   ]
  },
  {
   "cell_type": "code",
   "execution_count": 26,
   "id": "5aff44f6-f9a7-413e-b677-42aaeb45cd71",
   "metadata": {},
   "outputs": [
    {
     "data": {
      "text/html": [
       "<div>\n",
       "<style scoped>\n",
       "    .dataframe tbody tr th:only-of-type {\n",
       "        vertical-align: middle;\n",
       "    }\n",
       "\n",
       "    .dataframe tbody tr th {\n",
       "        vertical-align: top;\n",
       "    }\n",
       "\n",
       "    .dataframe thead th {\n",
       "        text-align: right;\n",
       "    }\n",
       "</style>\n",
       "<table border=\"1\" class=\"dataframe\">\n",
       "  <thead>\n",
       "    <tr style=\"text-align: right;\">\n",
       "      <th></th>\n",
       "      <th>경기</th>\n",
       "      <th>편차</th>\n",
       "    </tr>\n",
       "  </thead>\n",
       "  <tbody>\n",
       "    <tr>\n",
       "      <th>0</th>\n",
       "      <td>162</td>\n",
       "      <td>-8.6</td>\n",
       "    </tr>\n",
       "    <tr>\n",
       "      <th>1</th>\n",
       "      <td>179</td>\n",
       "      <td>8.4</td>\n",
       "    </tr>\n",
       "    <tr>\n",
       "      <th>2</th>\n",
       "      <td>174</td>\n",
       "      <td>3.4</td>\n",
       "    </tr>\n",
       "    <tr>\n",
       "      <th>3</th>\n",
       "      <td>179</td>\n",
       "      <td>8.4</td>\n",
       "    </tr>\n",
       "    <tr>\n",
       "      <th>4</th>\n",
       "      <td>160</td>\n",
       "      <td>-10.6</td>\n",
       "    </tr>\n",
       "    <tr>\n",
       "      <th>5</th>\n",
       "      <td>166</td>\n",
       "      <td>-4.6</td>\n",
       "    </tr>\n",
       "    <tr>\n",
       "      <th>6</th>\n",
       "      <td>186</td>\n",
       "      <td>15.4</td>\n",
       "    </tr>\n",
       "    <tr>\n",
       "      <th>7</th>\n",
       "      <td>164</td>\n",
       "      <td>-6.6</td>\n",
       "    </tr>\n",
       "    <tr>\n",
       "      <th>8</th>\n",
       "      <td>154</td>\n",
       "      <td>-16.6</td>\n",
       "    </tr>\n",
       "    <tr>\n",
       "      <th>9</th>\n",
       "      <td>182</td>\n",
       "      <td>11.4</td>\n",
       "    </tr>\n",
       "  </tbody>\n",
       "</table>\n",
       "</div>"
      ],
      "text/plain": [
       "    경기    편차\n",
       "0  162  -8.6\n",
       "1  179   8.4\n",
       "2  174   3.4\n",
       "3  179   8.4\n",
       "4  160 -10.6\n",
       "5  166  -4.6\n",
       "6  186  15.4\n",
       "7  164  -6.6\n",
       "8  154 -16.6\n",
       "9  182  11.4"
      ]
     },
     "metadata": {},
     "output_type": "display_data"
    },
    {
     "name": "stdout",
     "output_type": "stream",
     "text": [
      "5.684341886080802e-14\n",
      "편차의 합 : 0\n"
     ]
    }
   ],
   "source": [
    "gyeonggi_df = df['경기'].to_frame()\n",
    "gyeonggi_df[\"편차\"] = gyeonggi_df[\"경기\"].apply(lambda x: x - gyeonggi_df.mean())\n",
    "display(gyeonggi_df)\n",
    "\n",
    "\n",
    "# e가 붙어있는 수는 엄청 작은 수나 엄청 큰 수를 간략화 해주는 기능\n",
    "# 이 때 e는 자연 상수가 아니며, 과학적 기수법 e라고 한다.\n",
    "# (a)e(b) = a * 10^b\n",
    "\n",
    "print(gyeonggi_df['편차'].sum())\n",
    "\n",
    "# 실수의 오류를 원래 값으로 변경하고자 반올림(round) 사용\n",
    "total = round(gyeonggi_df['편차'].sum())\n",
    "print(f'편차의 합 : {total}')"
   ]
  },
  {
   "cell_type": "markdown",
   "id": "9297b160-a50e-47bd-b2db-8c83ca7047dc",
   "metadata": {},
   "source": [
    "#### 분산 (Variance)\n",
    "- 변량이 평균으로부터 떨어져있는 정도를 보기 위한 통계량이다.\n",
    "- 편차에 제곱하여 그 합을 구한 뒤 산술 평균을 낸다.\n",
    "\n",
    "<img src=\"./images/variance.png\" style=\"margin-left: 10px\">"
   ]
  },
  {
   "cell_type": "code",
   "execution_count": 29,
   "id": "9946de83-f06f-497e-9d77-c274dca7cb0d",
   "metadata": {},
   "outputs": [
    {
     "data": {
      "text/html": [
       "<div>\n",
       "<style scoped>\n",
       "    .dataframe tbody tr th:only-of-type {\n",
       "        vertical-align: middle;\n",
       "    }\n",
       "\n",
       "    .dataframe tbody tr th {\n",
       "        vertical-align: top;\n",
       "    }\n",
       "\n",
       "    .dataframe thead th {\n",
       "        text-align: right;\n",
       "    }\n",
       "</style>\n",
       "<table border=\"1\" class=\"dataframe\">\n",
       "  <thead>\n",
       "    <tr style=\"text-align: right;\">\n",
       "      <th></th>\n",
       "      <th>경기</th>\n",
       "      <th>편차</th>\n",
       "      <th>편차의 제곱(분산)</th>\n",
       "    </tr>\n",
       "  </thead>\n",
       "  <tbody>\n",
       "    <tr>\n",
       "      <th>0</th>\n",
       "      <td>162</td>\n",
       "      <td>-8.6</td>\n",
       "      <td>73.96</td>\n",
       "    </tr>\n",
       "    <tr>\n",
       "      <th>1</th>\n",
       "      <td>179</td>\n",
       "      <td>8.4</td>\n",
       "      <td>70.56</td>\n",
       "    </tr>\n",
       "    <tr>\n",
       "      <th>2</th>\n",
       "      <td>174</td>\n",
       "      <td>3.4</td>\n",
       "      <td>11.56</td>\n",
       "    </tr>\n",
       "    <tr>\n",
       "      <th>3</th>\n",
       "      <td>179</td>\n",
       "      <td>8.4</td>\n",
       "      <td>70.56</td>\n",
       "    </tr>\n",
       "    <tr>\n",
       "      <th>4</th>\n",
       "      <td>160</td>\n",
       "      <td>-10.6</td>\n",
       "      <td>112.36</td>\n",
       "    </tr>\n",
       "    <tr>\n",
       "      <th>5</th>\n",
       "      <td>166</td>\n",
       "      <td>-4.6</td>\n",
       "      <td>21.16</td>\n",
       "    </tr>\n",
       "    <tr>\n",
       "      <th>6</th>\n",
       "      <td>186</td>\n",
       "      <td>15.4</td>\n",
       "      <td>237.16</td>\n",
       "    </tr>\n",
       "    <tr>\n",
       "      <th>7</th>\n",
       "      <td>164</td>\n",
       "      <td>-6.6</td>\n",
       "      <td>43.56</td>\n",
       "    </tr>\n",
       "    <tr>\n",
       "      <th>8</th>\n",
       "      <td>154</td>\n",
       "      <td>-16.6</td>\n",
       "      <td>275.56</td>\n",
       "    </tr>\n",
       "    <tr>\n",
       "      <th>9</th>\n",
       "      <td>182</td>\n",
       "      <td>11.4</td>\n",
       "      <td>129.96</td>\n",
       "    </tr>\n",
       "  </tbody>\n",
       "</table>\n",
       "</div>"
      ],
      "text/plain": [
       "    경기    편차  편차의 제곱(분산)\n",
       "0  162  -8.6       73.96\n",
       "1  179   8.4       70.56\n",
       "2  174   3.4       11.56\n",
       "3  179   8.4       70.56\n",
       "4  160 -10.6      112.36\n",
       "5  166  -4.6       21.16\n",
       "6  186  15.4      237.16\n",
       "7  164  -6.6       43.56\n",
       "8  154 -16.6      275.56\n",
       "9  182  11.4      129.96"
      ]
     },
     "metadata": {},
     "output_type": "display_data"
    },
    {
     "name": "stdout",
     "output_type": "stream",
     "text": [
      "분산: 104.64\n"
     ]
    }
   ],
   "source": [
    "gyeonggi_df[\"편차의 제곱(분산)\"] = gyeonggi_df[\"편차\"].apply(lambda x: x**2)\n",
    "\n",
    "display(gyeonggi_df)\n",
    "\n",
    "variance = gyeonggi_df['편차의 제곱(분산)'].mean()\n",
    "print(f'분산: {round(variance, 2)}')"
   ]
  },
  {
   "cell_type": "markdown",
   "id": "279b4969-6cc3-4c8f-a62c-b24c1429696a",
   "metadata": {},
   "source": [
    "#### 표준편차 (Standard deviation)\n",
    "- 분산의 제곱근이며, 관측된 변량의 흩어진 정도를 하나의 수치로 나타내는 통계량이다.\n",
    "- 표준편차가 작을 수록 평균 값에서 변량들의 거리가 가깝다고 판단한다.\n",
    "\n",
    "<img src=\"./images/standard_deviation.png\" style=\"margin-left: 15px\">"
   ]
  },
  {
   "cell_type": "code",
   "execution_count": 30,
   "id": "60360906-36a3-4ddf-a963-c986afd72a6a",
   "metadata": {},
   "outputs": [
    {
     "name": "stdout",
     "output_type": "stream",
     "text": [
      "표준편차 : 10.229369482035539\n"
     ]
    }
   ],
   "source": [
    "import math\n",
    "\n",
    "std = math.sqrt(variance)\n",
    "print(f'표준편차 : {std}')"
   ]
  },
  {
   "cell_type": "markdown",
   "id": "62d2a208-ba8a-4f5a-9a49-75f0d6d1ceaa",
   "metadata": {},
   "source": [
    "#### 확률변수 (Random variable)\n",
    "- 머신러닝, 딥러닝 등 확률을 다루는 분야에 있어서 필수적인 개념이다.\n",
    "- 확률(probability)이 있다는 뜻은 사건(event)이 있다는 뜻이며,  \n",
    "  시행(trial)을 해야 시행의 결과인 사건(event)이 나타난다.\n",
    "- 시행(trial)을 해서 어떤 사건(event)이 나타났는지에 따라 값이 정해지는 변수이다.\n",
    "- 알파벳 대문자로 표현하며, X, Y, Z 또는 X<sub>1</sub>, X<sub>2</sub>, X<sub>3</sub>과 같이 표현한다.\n",
    "- 확률 변수는 집합이며, 원소를 확률변수값(Value of random variable)이라고 표현한다.  \n",
    "  확률 변수에서 사용한 알파벳의 소문자를 사용한다.\n",
    "- Y = { y<sub>1</sub>, y<sub>2</sub>, y<sub>3</sub> }, 이 때 Y는 확률변수이고 원소인 y<sub>1</sub> ~ y<sub>3</sub>은 확률변수값이다.\n",
    "\n",
    "<img src=\"./images/random_variable.jpg\" width=\"700px\" style=\"margin-left: 15px\">"
   ]
  },
  {
   "cell_type": "markdown",
   "id": "90820288-e3cd-4666-a463-15cfc7454396",
   "metadata": {},
   "source": [
    "#### 범주형 확률변수 (Categorical random variable)\n",
    "- 범주형 확률변수값은 수치가 아닌 기호나 언어, 숫자 등으로 표현하고, 기호나 언어는 순서를 가질 수도 있다.\n",
    "- 유한집합으로 표현한다. 유한집합은 원소의 수가 유한한 집합을 의미한다.\n",
    "- {앞면, 뒷면}, {동의, 비동의}, {선택, 미선택}, {봄, 여름, 가을, 겨울}"
   ]
  },
  {
   "cell_type": "markdown",
   "id": "a3e97e49-967f-457e-9767-05e2308785f2",
   "metadata": {},
   "source": [
    "#### 이산형 확률변수 (Discrete random variable)\n",
    "- 이산형 확률변수 값은 수치로 표현하고 셀 수 있는 값이다.  \n",
    "  이를 더 넓은 범위로, 양적 확률변수 또는 수치형 확률변수라고도 부른다.\n",
    "- 유한집합 또는 셀 수 있는 무한집합으로 표현한다. 무한집합은 원소의 수가 무한한 집합을 의미한다.\n",
    "- {0, 1, 2, 3}, {10, 20, 30}, {1, 2, 3, ...}, {100, 1000, 10000}"
   ]
  },
  {
   "cell_type": "markdown",
   "id": "51a91db6-6176-4c73-aa20-f2521a766b73",
   "metadata": {},
   "source": [
    "#### 연속형 확률변수 (Continuous random variable)\n",
    "- 연속형 확률변수는 구간을 나타내는 수치로 표현한다.  \n",
    "  이를 더 넓은 범위로, 양적 확률변수 또는 수치형 확률변수라고도 부른다.\n",
    "- 셀 수 없는 무한집합으로 표현한다.\n",
    "- 128.56 < X < 268.56"
   ]
  },
  {
   "cell_type": "markdown",
   "id": "e1c927c4-4ef6-4626-888d-8d658123194f",
   "metadata": {},
   "source": [
    "#### 확률분포 (Probability distribution)\n",
    "- 사건에 대한 확률변수에서 정의된 모든 확률값의 분포이며, 서로 다른 모든 결과의 출현 확률을 제공한다.\n",
    "  \n",
    "> <strong>1) 동전 던지기(시행)</strong>  \n",
    "> <strong>2) { 0, 1 }(확률변수와 확률변수값)</strong>  \n",
    "> <strong>3) 완벽한 형태의 동전일 경우 확률 분포</strong>\n",
    ">\n",
    "> <img src=\"./images/probability_distribution01.png\">\n",
    "\n",
    "\n",
    "> <strong>1) 1 ~ 12까지 새겨진 주사위 던지기 (시행)</strong>  \n",
    "> <strong>2) { 1, 2, 3, 4, 5, 6, 7, 8, 9, 10, 11, 12 } (확률변수와 확률변수 값)</strong>  \n",
    "> <strong>3) 완벽한 형태의 주사위일 경우 확률 분포</strong>\n",
    ">\n",
    "><img src=\"./images/probability_distribution02.png\">"
   ]
  },
  {
   "cell_type": "markdown",
   "id": "76485dd0-7542-4000-89ef-7f04857d353f",
   "metadata": {},
   "source": [
    "#### 확률분포표 (Probability distribution table)\n",
    "- 확률변수의 모든 값(원소)에 대해 확률을 표로 표시한 것이다.\n",
    "- 범주형 또는 이산형 확률변수의 확률분포를 표현하기에 적합한 방식이다."
   ]
  },
  {
   "cell_type": "code",
   "execution_count": 33,
   "id": "ec39a3c2-865e-414d-a2c6-31f67525965d",
   "metadata": {},
   "outputs": [
    {
     "data": {
      "text/html": [
       "<div>\n",
       "<style scoped>\n",
       "    .dataframe tbody tr th:only-of-type {\n",
       "        vertical-align: middle;\n",
       "    }\n",
       "\n",
       "    .dataframe tbody tr th {\n",
       "        vertical-align: top;\n",
       "    }\n",
       "\n",
       "    .dataframe thead th {\n",
       "        text-align: right;\n",
       "    }\n",
       "</style>\n",
       "<table border=\"1\" class=\"dataframe\">\n",
       "  <thead>\n",
       "    <tr style=\"text-align: right;\">\n",
       "      <th></th>\n",
       "      <th>경주마 번호</th>\n",
       "      <th>1등 횟수</th>\n",
       "      <th>1등할 확률</th>\n",
       "    </tr>\n",
       "  </thead>\n",
       "  <tbody>\n",
       "    <tr>\n",
       "      <th>0</th>\n",
       "      <td>1</td>\n",
       "      <td>25</td>\n",
       "      <td>0.25</td>\n",
       "    </tr>\n",
       "    <tr>\n",
       "      <th>1</th>\n",
       "      <td>2</td>\n",
       "      <td>25</td>\n",
       "      <td>0.25</td>\n",
       "    </tr>\n",
       "    <tr>\n",
       "      <th>2</th>\n",
       "      <td>3</td>\n",
       "      <td>25</td>\n",
       "      <td>0.25</td>\n",
       "    </tr>\n",
       "    <tr>\n",
       "      <th>3</th>\n",
       "      <td>4</td>\n",
       "      <td>25</td>\n",
       "      <td>0.25</td>\n",
       "    </tr>\n",
       "  </tbody>\n",
       "</table>\n",
       "</div>"
      ],
      "text/plain": [
       "   경주마 번호  1등 횟수  1등할 확률\n",
       "0       1     25    0.25\n",
       "1       2     25    0.25\n",
       "2       3     25    0.25\n",
       "3       4     25    0.25"
      ]
     },
     "metadata": {},
     "output_type": "display_data"
    }
   ],
   "source": [
    "import numpy as np\n",
    "import pandas as pd\n",
    "\n",
    "df_h_dist = pd.DataFrame(np.arange(0, 100) % 4 + 1, columns=['경주마 번호'])\n",
    "\n",
    "df_h_dist_group = df_h_dist.groupby(\"경주마 번호\")[\"경주마 번호\"].count().reset_index(name=\"1등 횟수\")\n",
    "\n",
    "df_h_dist_group['1등할 확률']= df_h_dist_group['1등 횟수'] / 100\n",
    "display(df_h_dist_group)"
   ]
  },
  {
   "cell_type": "markdown",
   "id": "496f1ae4-6a64-48ac-b4ee-de53a0e99608",
   "metadata": {},
   "source": [
    "#### 확률분포함수 (Probability distribution function)\n",
    "- 확률변수의 분포를 나타내는 함수로서, 확률변수의 확률변수값이 나올 확률을 나타내는 함수이다.\n",
    "- 확률질량함수, 확률밀도함수 등의 함수가 있다."
   ]
  },
  {
   "cell_type": "code",
   "execution_count": 36,
   "id": "511c2a1e-2875-445d-b11a-43e63528b7f0",
   "metadata": {},
   "outputs": [
    {
     "data": {
      "image/png": "[encoded data removed]",
      "text/plain": [
       "<Figure size 640x480 with 1 Axes>"
      ]
     },
     "metadata": {},
     "output_type": "display_data"
    }
   ],
   "source": [
    "import matplotlib.pyplot as plt\n",
    "import numpy as np\n",
    "\n",
    "plt.hist(df_h_dist['경주마 번호'], range(1, 6), density=True, color='pink', edgecolor='red')\n",
    "plt.xlim(0, 6)\n",
    "plt.ylim(0, 1)\n",
    "plt.show()"
   ]
  },
  {
   "cell_type": "markdown",
   "id": "68071c5a-6e81-48c3-865e-0384d7dbbc18",
   "metadata": {},
   "source": [
    "#### 확률질량 함수(Probability mass function, pmf)\n",
    "- 확률변수 X의 분포를 나타내는 함수로서, x<sub>i</sub>가 나올 확률이다.\n",
    "- 확률변수의 값을 매개변수로 전달받고, 해당 값이 나타날 확률을 구해서 리턴하는 함수이다.\n",
    "- 범주형 확률변수와 이산형 확률변수에서 사용된다.\n",
    "- 확률변수에서 각 값에 대한 확률을 나타내는 것이 마치 각 값이 \"질량\"을 가지고 있는 것처럼 보이기 대문에 확률질량 함수로 불린다.\n",
    "\n",
    "> 확률질량 함수 f는 확률변수 X가 x를 변수값으로 가질 때의 확률이다.  \n",
    "> <img src=\"./images/pmf01.png\" style=\"margin-top: 10px\">  \n",
    "> <img src=\"./images/pmf02.png\" style=\"margin-top: 10px\">  \n",
    "> <img src=\"./images/pmf03.png\" style=\"margin-top: 10px\">"
   ]
  },
  {
   "cell_type": "code",
   "execution_count": 44,
   "id": "8556751b-84fd-4538-b774-01859f53f667",
   "metadata": {},
   "outputs": [
    {
     "data": {
      "text/html": [
       "<div>\n",
       "<style scoped>\n",
       "    .dataframe tbody tr th:only-of-type {\n",
       "        vertical-align: middle;\n",
       "    }\n",
       "\n",
       "    .dataframe tbody tr th {\n",
       "        vertical-align: top;\n",
       "    }\n",
       "\n",
       "    .dataframe thead th {\n",
       "        text-align: right;\n",
       "    }\n",
       "</style>\n",
       "<table border=\"1\" class=\"dataframe\">\n",
       "  <thead>\n",
       "    <tr style=\"text-align: right;\">\n",
       "      <th></th>\n",
       "      <th>경주마 번호</th>\n",
       "      <th>1등 횟수</th>\n",
       "      <th>1등 확률</th>\n",
       "    </tr>\n",
       "  </thead>\n",
       "  <tbody>\n",
       "    <tr>\n",
       "      <th>0</th>\n",
       "      <td>1</td>\n",
       "      <td>24</td>\n",
       "      <td>0.24</td>\n",
       "    </tr>\n",
       "    <tr>\n",
       "      <th>1</th>\n",
       "      <td>2</td>\n",
       "      <td>33</td>\n",
       "      <td>0.33</td>\n",
       "    </tr>\n",
       "    <tr>\n",
       "      <th>2</th>\n",
       "      <td>3</td>\n",
       "      <td>22</td>\n",
       "      <td>0.22</td>\n",
       "    </tr>\n",
       "    <tr>\n",
       "      <th>3</th>\n",
       "      <td>4</td>\n",
       "      <td>21</td>\n",
       "      <td>0.21</td>\n",
       "    </tr>\n",
       "  </tbody>\n",
       "</table>\n",
       "</div>"
      ],
      "text/plain": [
       "   경주마 번호  1등 횟수  1등 확률\n",
       "0       1     24   0.24\n",
       "1       2     33   0.33\n",
       "2       3     22   0.22\n",
       "3       4     21   0.21"
      ]
     },
     "metadata": {},
     "output_type": "display_data"
    }
   ],
   "source": [
    "import numpy as np\n",
    "import pandas as pd\n",
    "\n",
    "df_h = pd.DataFrame(np.random.randint(1, 5, size=(100,1)), columns = [\"경주마 번호\"])\n",
    "df_h_group = df_h.groupby('경주마 번호')['경주마 번호'].count().reset_index(name='1등 횟수')\n",
    "\n",
    "df_h_group['1등 확률'] = df_h_group['1등 횟수'] / 100\n",
    "\n",
    "display(df_h_group)\n"
   ]
  },
  {
   "cell_type": "code",
   "execution_count": 46,
   "id": "62386a20-0f6f-4a42-a0e4-9f4533130033",
   "metadata": {},
   "outputs": [
    {
     "data": {
      "image/png": "[encoded data removed]",
      "text/plain": [
       "<Figure size 640x480 with 1 Axes>"
      ]
     },
     "metadata": {},
     "output_type": "display_data"
    }
   ],
   "source": [
    "import matplotlib.pyplot as plt\n",
    "import numpy as np\n",
    "\n",
    "plt .hist(df_h['경주마 번호'], range(1, 6), density=True \\\n",
    "    ,color = 'pink', edgecolor='red', linewidth=2)\n",
    "plt.show()"
   ]
  },
  {
   "cell_type": "markdown",
   "id": "c1b8dbc1-caed-4a72-9965-1d66c4892a44",
   "metadata": {},
   "source": [
    "#### 무한대 (Infinity)\n",
    "- 끝없이 커지는 상태를 의미하고 기호로 ∞ 를 사용한다."
   ]
  },
  {
   "cell_type": "markdown",
   "id": "4f8179ae-a3a6-4bd5-81cc-0363a3dfb899",
   "metadata": {},
   "source": [
    "#### 무한소 0 (Infinitesimal)\n",
    "- 거의 없다는 의미이고, 0에 매우 근접하지만 0이 아닌 상태를 의미한다."
   ]
  },
  {
   "cell_type": "markdown",
   "id": "d0e7dc22-9195-4e6c-99b6-96241cdb45e5",
   "metadata": {},
   "source": [
    "#### 미분 (Differential)\n",
    "- 기울기는 독립변수가 종속변수에 미치는 영향력의 크기를 의미한다.\n",
    "- 변경 전의 독립변수 x<sub>1</sub>이라는 점과 변경 후의 x<sub>2</sub>라는 점을 지나는 직선의 기울기가 바로 변화에 대한 속도이다.\n",
    "- 즉, 직선의 기울기가 4로 구해졌다면, 종속변수가 독립변수의 변화에 4배 속도로 변화된 것이다.\n",
    "- 이 때, 두 점 사이가 무한히 가까워지면, 결국 거의 한 점과 같은 점에 대한 접선의 기울기가 되고 이는 순간적인 변화량이다.\n",
    "- 미분을 통해서 독립변수가 굉장히 미세하게 변화할 때 순간적으로 종속변수가 얼마나 빠르게 변화하는 지를 알 수 있다."
   ]
  },
  {
   "cell_type": "markdown",
   "id": "fdaf84a7-8ad4-4036-97b5-e74bedae7f3e",
   "metadata": {},
   "source": [
    "#### 적분 (Integral)\n",
    "- 선분 = 높이(길이), 면적 = 가로 X 높이\n",
    "- 면적을 구할 때 여러 사각형으로 나눈 뒤 합하여도 전체 면적이 나온다.\n",
    "- 가로가 무한소 0인 사각형 즉, 선분과 거의 비슷한 사각형을 쌓은 뒤, 각 면적을 모두 합하는 것이 적분이다."
   ]
  },
  {
   "cell_type": "markdown",
   "id": "bb391b2a-39b2-4c1a-9dc0-85f347d6eba6",
   "metadata": {},
   "source": [
    "#### 확률밀도 함수 (Probability density function, pdf)\n",
    "- 확률변수 X의 분포를 나타내는 함수로서, 특정 구간에 속할 확률이고 이는 특정 구간을 적분한 값이다.\n",
    "- 확률변수값의 범위(구간)를 매개변수로 전달받고, 범위의 넓이를 구해서 리턴하는 함수이다.\n",
    "- 연속형 확률변수에서 사용된다.\n",
    "- 전체에 대한 확률이 아닌 구간에 포함될 확률을 나타내기 때문에 구간에 따른 밀도를 구하는 것이고, 이를 통해 확률밀도 함수라 불린다.\n",
    "\n",
    "> 확률밀도 함수 f는 특정 구간에 포함될 확률을 나타낸다.  \n",
    "> <img src=\"./images/pdf01.png\" style=\"margin-top : 10px\">  \n",
    "> <img src=\"./images/pdf02.png\" >  \n",
    "> <img src=\"./images/pdf03.png\" >  \n",
    "> <img src=\"./images/pdf04.png\" >"
   ]
  },
  {
   "cell_type": "code",
   "execution_count": 48,
   "id": "3e63d472-3eb7-4dc0-b6d7-34f99307edaf",
   "metadata": {},
   "outputs": [
    {
     "name": "stdout",
     "output_type": "stream",
     "text": [
      "구간 [-1, 2]에서의 확률 : 0.8185946141203638\n"
     ]
    },
    {
     "data": {
      "image/png": "[encoded data removed]",
      "text/plain": [
       "<Figure size 640x480 with 1 Axes>"
      ]
     },
     "metadata": {},
     "output_type": "display_data"
    }
   ],
   "source": [
    "import numpy as np\n",
    "import matplotlib.pyplot as plt\n",
    "from scipy.integrate import quad\n",
    "\n",
    "def pdf(x):\n",
    "    # 정규 분포\n",
    "    mu = 0\n",
    "    sigma = 1\n",
    "    return 1 / (sigma * np.sqrt(2 * np.pi)) * np.exp(-((x - mu) / sigma) ** 2 / 2)\n",
    "\n",
    "# 랜덤한 구간\n",
    "a = -1\n",
    "b = 2\n",
    "\n",
    "def calculate_probability_in_range(a, b):\n",
    "    probability, _ = quad(pdf, a, b)\n",
    "    return probability\n",
    "\n",
    "probability = calculate_probability_in_range(a, b)\n",
    "print(f'구간 [{a}, {b}]에서의 확률 : {probability}')\n",
    "\n",
    "x_values = np.linspace(-5, 5, 10000)\n",
    "y_values = pdf(x_values)\n",
    "\n",
    "plt.plot(x_values, y_values, label='pdf', color='blue')\n",
    "plt.fill_between(x_values, y_values, \\\n",
    "                 where = (x_values >= a) & (x_values <= b), \\\n",
    "                 color='skyblue', alpha=0.5, label='area')\n",
    "plt.axvline(x=a, linestyle = '--', color='red', label='start')\n",
    "plt.axvline(x=b, linestyle = '--', color='red', label='end')\n",
    "plt.xlabel('x')\n",
    "plt.ylabel('density')\n",
    "plt.title('Probability density function')\n",
    "plt.legend()\n",
    "plt.grid(True)\n",
    "plt.show()"
   ]
  },
  {
   "cell_type": "markdown",
   "id": "41644074-bb2f-46e5-b992-49c38c7a125b",
   "metadata": {},
   "source": [
    "#### 정규분포 (Normal distribution)\n",
    "- 모든 독립적인 확률변수들의 평균은 어떠한 분포에 가까워지는데, 이 분포를 정규분포라고 한다.\n",
    "- 즉, 비정규분포의 대부분은 극한상태에 있어서 정규분포에 가까워진다.\n",
    "\n",
    "<img src=\"./images/normal_distribution01.png\" width=\"500px\"/> <img src=\"./images/normal_distribution02.png\" width=\"500px\" />\n",
    "- 평균 μ(mu)와 표준편차 σ(sigma)에 대해 아래의 확률밀도함수를 가지는 분포를 의미한다.\n",
    "\n",
    "<div style=\"display:flex\">\n",
    "    <div>\n",
    "      <img src=\"./images/normal_distribution03.png\" width=\"230px\" style=\"margin-left: 20px\">  \n",
    "    </div>\n",
    "    <div>\n",
    "      <img src=\"./images/normal_distribution04.png\" width=\"700px\" style=\"margin-left: 20px\">  \n",
    "    </div>\n",
    "</div>"
   ]
  },
  {
   "cell_type": "markdown",
   "id": "71e14167-ab75-46fe-90ac-45d2a0fd6eec",
   "metadata": {},
   "source": [
    "#### 표준정규분포 (Standard normal distribution)\n",
    "- 정규분포는 평균과 표준편차에 따라서 모양이 달라진다.\n",
    "\n",
    "<img src=\"./images/standard_normal_distribution01.png\" width=\"400px\"/>\n",
    "\n",
    "- 정규분포를 따르는 분포는 많지만 각각의 평균과 표준편차가 달라서 매번 확률을 계산해야 하기 대문에 일반화 할 수 없다.\n",
    "- N(μ, σ) = N(0, 1) 즉, 평균을 0, 표준편차를 1로 만든다면 모두 같은 특성을 가지는 동일한 확률분포로 바꿔서 일반화 할 수 있다.\n",
    "- 따라서 일반 정규분포를 표준 정규분포로 바꾼 뒤, 표준 정규분포의 특정 구간의 넓이를 이용해서 원래 분포의 확률을 구할 수 있다.\n",
    "\n",
    "<img src=\"./images/standard_normal_distribution02.png\" width=\"550px\" />"
   ]
  },
  {
   "cell_type": "markdown",
   "id": "e60e715d-ed12-42c3-ba3a-e0107561729d",
   "metadata": {},
   "source": [
    "#### 표준화 (Standardization)\n",
    "- 다양한 형태의 정규분포를 표준 정규분포로 변환하는 방법이다.\n",
    "- 표준 정규분포에 대한 값(넓이)를 이용해 원래 분포의 확률을 구할 수 있다.\n",
    "\n",
    "<img src=\"./images/standardization01.png\" style=\"margin-left: 20px\"/>\n",
    "\n",
    "<img src=\"./images/standardization02.png\" style=\"margin-left: 20px\"/>"
   ]
  },
  {
   "cell_type": "markdown",
   "id": "832c84c6-8f78-48c1-8d97-927f8ccff1a8",
   "metadata": {},
   "source": [
    "#### 모집단과 모수 (Population and population parameter)\n",
    "- 모집단이란, 정보를 얻고자 하는 대상의 전체 집합을 의미한다.\n",
    "- 모수란, 모집단의 수치적 요약값을 의미한다. 평균 또는 표준편차와 같은 모집단의 통계값을 모수라고 한다."
   ]
  },
  {
   "cell_type": "markdown",
   "id": "855ec546-46a4-4255-b6f1-a8dcafe53003",
   "metadata": {},
   "source": [
    "#### 표본과 샘플링 (Sample and Sampling)\n",
    "- 표본이란, 모집단의 부분집합으로서 표본의 통계량을 통해 모집단의 통계량을 추론할 수 있다.\n",
    "- 모집단의 통계량을 구할 수 없는 상황 즉, 전수 조사가 불가능한 상황에서 임의의 표본을 추출하여 분석한다.\n",
    "- 이렇게 표본(sample)을 추출하는 작업을 샘플링(Sampling)이라고 한다."
   ]
  },
  {
   "cell_type": "markdown",
   "id": "d456a6ef-fb11-4a23-b148-8bad5f167d0c",
   "metadata": {},
   "source": [
    "### 데이터 분석의 범위\n",
    "<img src=\"./images/statistics02.png\" width=\"400px\" style=\"margin-left: 10px\"/>\n",
    "\n",
    "#### 기술 통계 (Descriptive Statistics)\n",
    "- 수집한 데이터의 요약을 통해서 데이터를 설명(묘사)하는 기법이다.\n",
    "- 수집한 데이터의 전체적인 모양을 그리기 위해 기술 통계 기법을 사용한다.\n",
    "- 집중화 경향(Central tendency) : 평균(Mean), 중앙값(Median), 최빈값(Mode)\n",
    "- 분산도(Variation) : 표준편차(Standard deviation), 사분위(Quartile)\n",
    "\n",
    "#### 추론 통계 (Inferential Statistics)\n",
    "- 수집한 데이터를 기반으로 특성(패턴)을 알아낸 뒤 특정 데이터를 추론하거나 예측하는 기법이다.\n",
    "- 모집단(Population)에서 일정 표본(Sample)을 채취한 뒤, 표본에 대한 통계를 구하여 모집단에 대해 추론한다. 이를 통해 결론에 도달하는 기법이다.\n",
    "- 데이터 전체를 조사할 수 없을 때, 랜덤한 표본을 분석해서 나온 결과를 전체적으로 일반화 시킬 때 유용하다."
   ]
  },
  {
   "cell_type": "code",
   "execution_count": null,
   "id": "114f4398-39d8-4b17-9ad8-7dcb8d448dbb",
   "metadata": {},
   "outputs": [],
   "source": []
  }
 ],
 "metadata": {
  "kernelspec": {
   "display_name": "Python 3 (ipykernel)",
   "language": "python",
   "name": "python3"
  },
  "language_info": {
   "codemirror_mode": {
    "name": "ipython",
    "version": 3
   },
   "file_extension": ".py",
   "mimetype": "text/x-python",
   "name": "python",
   "nbconvert_exporter": "python",
   "pygments_lexer": "ipython3",
   "version": "3.11.8"
  }
 },
 "nbformat": 4,
 "nbformat_minor": 5
}
