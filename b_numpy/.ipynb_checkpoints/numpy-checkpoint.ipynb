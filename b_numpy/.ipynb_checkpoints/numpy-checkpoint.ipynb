{
 "cells": [
  {
   "cell_type": "code",
   "execution_count": 1,
   "id": "7096a00a-af5e-4bb9-853d-c4979ebff559",
   "metadata": {},
   "outputs": [],
   "source": [
    "import numpy as np\n"
   ]
  },
  {
   "cell_type": "code",
   "execution_count": 2,
   "id": "b75dd46a-ce2a-4b6d-afaf-9cfd4f14739c",
   "metadata": {},
   "outputs": [
    {
     "name": "stdout",
     "output_type": "stream",
     "text": [
      "1.26.4\n"
     ]
    }
   ],
   "source": [
    "print(np.__version__)"
   ]
  },
  {
   "cell_type": "markdown",
   "id": "6dc0a00f-681d-4a31-b676-1b8da14d0d49",
   "metadata": {},
   "source": [
    "### Numpy\n",
    "- 머신러닝 애플리케이션에서 데이터 추출, 가공, 변환과 같은 데이터 처리 부분을 담당한다.\n",
    "- 넘파이 기반의 사이킷런을 이해하기 위해서는 넘파이는 필수이다.\n",
    "- 사이킷런은 직관적이고 간결하기 때문에 상대적으로 개발하기 쉽지만 넘파이는 양도 많고 배울 것도 많다.\n",
    "- 넘파이 전체를 다 이해하고 공부하는 것은 머신러닝을 포기하게 만들기 때문에  \n",
    "  기본 문법과 중요 API만 이해하는 것이 전략적으로 좋다.\n",
    "\n",
    "\n",
    "\n"
   ]
  },
  {
   "cell_type": "markdown",
   "id": "18afafc0-6fcb-4f1d-acc5-6254b9e0cbc3",
   "metadata": {},
   "source": [
    "#### ndarray\n",
    "- N차원(n-dimension) 배열 객체이다.\n",
    "- 파이썬 list를 array() 메소드에 전달하면 ndarray로 변환되고  \n",
    "  넘파이의 다양하고 편리한 기능들을 사용할 수 있게 된다.\n",
    "- 반드시 같은 자료형의 데이터만 담아야 한다.\n",
    "\n",
    "<img src=\"./images/numpy1.png\" width=\"400px\" style=\"margin-left : 10px\"/>"
   ]
  },
  {
   "cell_type": "code",
   "execution_count": 3,
   "id": "1433d4b0-57c9-4f5f-be6b-868af8ae67e7",
   "metadata": {},
   "outputs": [],
   "source": [
    "import numpy as np\n"
   ]
  },
  {
   "cell_type": "code",
   "execution_count": 7,
   "id": "5155370f-c1e3-4a93-90dd-c91bedb82db9",
   "metadata": {},
   "outputs": [
    {
     "name": "stdout",
     "output_type": "stream",
     "text": [
      "<class 'numpy.ndarray'>\n",
      "[1 2 3]\n",
      "==============================\n",
      "(3,)\n",
      "1\n"
     ]
    }
   ],
   "source": [
    "ndarray1 = np.array([1, 2, 3])\n",
    "print(type(ndarray1), ndarray1, sep=\"\\n\")\n",
    "\n",
    "print(\"=\" * 30)\n",
    "\n",
    "# shape: 차원별 개수를 알 수 있다.\n",
    "print(ndarray1.shape)\n",
    "\n",
    "# ndim: 차원을 나타낸다.\n",
    "print(ndarray1.ndim)"
   ]
  },
  {
   "cell_type": "code",
   "execution_count": 18,
   "id": "6dc21369-5b39-4f73-b4ea-b4c2bbda964a",
   "metadata": {},
   "outputs": [
    {
     "name": "stdout",
     "output_type": "stream",
     "text": [
      "(2, 3)\n",
      "[[1 2 3]\n",
      " [4 5 6]]\n"
     ]
    }
   ],
   "source": [
    "# 아래의 2차원 ndarray로 변환한다.\n",
    "# 1 2 3\n",
    "# 4 5 6\n",
    "ndlist = [1,2,3],[4,5,6]\n",
    "ndarray = np.array([[1,2,3],[4,5,6]])\n",
    "\n",
    "# 차원을 출력해본다.\n",
    "print(ndarray.shape, ndarray, sep=\"\\n\")"
   ]
  },
  {
   "cell_type": "markdown",
   "id": "809ffa68-e294-48ec-aceb-868e0284c239",
   "metadata": {},
   "source": [
    "#### astype()\n",
    "- ndarray에 저장된 요소의 타입을 변환시킬 때 사용한다.\n",
    "- 대용량 데이터 처리 시, 메모리 절약을 위해 사용한다."
   ]
  },
  {
   "cell_type": "code",
   "execution_count": 20,
   "id": "e47ddb96-d11b-44ab-a4f3-2ff5a0053e14",
   "metadata": {},
   "outputs": [
    {
     "name": "stdout",
     "output_type": "stream",
     "text": [
      "<class 'numpy.ndarray'>\n",
      "int32\n",
      "<class 'numpy.ndarray'>\n",
      "int8\n"
     ]
    }
   ],
   "source": [
    "ndarray1 = np.array([1,2,3])\n",
    "\n",
    "print(type(ndarray1))\n",
    "print(ndarray1.dtype)\n",
    "\n",
    "ndarray1_int8 = ndarray1.astype(np.int8)\n",
    "\n",
    "print(type(ndarray1_int8))\n",
    "print(ndarray1_int8.dtype)"
   ]
  },
  {
   "cell_type": "code",
   "execution_count": 25,
   "id": "7bb39ba2-1319-4f6e-b5ad-aecd2191ccc5",
   "metadata": {},
   "outputs": [
    {
     "name": "stdout",
     "output_type": "stream",
     "text": [
      "int32\n",
      "(3,)\n",
      "float16\n",
      "[4. 5. 6.]\n"
     ]
    }
   ],
   "source": [
    "# 4, 5, 6을 ndarray에 담는다.\n",
    "# dtype을 확인한 뒤 float16으로 변경시키고 확인한다.\n",
    "\n",
    "ndarray1 = np.array([4,5,6])\n",
    "print(ndarray1.dtype)\n",
    "print(ndarray1.shape)\n",
    "\n",
    "ndarray1_float16 = ndarray1.astype(np.float16)\n",
    "print(ndarray1_float16.dtype)\n",
    "print(ndarray1_float16)"
   ]
  },
  {
   "cell_type": "markdown",
   "id": "b0c3773b-b446-4c7e-aace-ef54403fed05",
   "metadata": {},
   "source": [
    "#### axis\n",
    "- 축의 방향성을 표현할 때, axis로 표현할 수 있다.\n",
    "\n",
    "<img src=\"./images/numpy2.png\" width=\"500px\" style=\"margin-left: 10px\"/>"
   ]
  },
  {
   "cell_type": "markdown",
   "id": "c9362b8e-f5de-48a7-9f98-d36b7a4aa63c",
   "metadata": {},
   "source": [
    "#### arange(), zeros(), ones()\n",
    "- ndarray의 요소를 원하는 범위의 연속값, 0 또는 1로 초기화할 때 사용한다."
   ]
  },
  {
   "cell_type": "code",
   "execution_count": 34,
   "id": "f0bdd318-a01c-43fc-994b-6d83ddd9ceef",
   "metadata": {},
   "outputs": [
    {
     "name": "stdout",
     "output_type": "stream",
     "text": [
      "int32 (10,)\n",
      "[0 1 2 3 4 5 6 7 8 9]\n",
      "float64 (2, 3)\n",
      "[[0. 0. 0.]\n",
      " [0. 0. 0.]]\n",
      "==============================\n",
      "[1 1 1]\n",
      "int16 (3,) 1\n"
     ]
    }
   ],
   "source": [
    "# 0 ~ 9 까지 1 차원 ndarray\n",
    "ndarray1 = np.arange(0,10)\n",
    "print(ndarray1.dtype, ndarray1.shape)\n",
    "print(ndarray1)\n",
    "\n",
    "# 2행 3열 요소 모두 0으로 초기화, zeros => float 가 default\n",
    "ndarray2 = np.zeros((2, 3))\n",
    "print(ndarray2.dtype, ndarray2.shape)\n",
    "print(ndarray2)\n",
    "print(\"=\" * 30)\n",
    "# 1차원 3칸 배열 요소 모두 1로 초기화\n",
    "nda1 = np.ones((3,), dtype=np.int16) #np 선언시, dtype을 붙여서 작성하면 타입을 변경해서 만들 수 있다.\n",
    "# nda1 = np.ones(3) 이 방식보단, shape를 신경쓴 윗 방식을 좀더 선호.\n",
    "print(nda1)\n",
    "print(nda1.dtype, nda1.shape, nda1.ndim)\n",
    "\n"
   ]
  },
  {
   "cell_type": "markdown",
   "id": "e580577a-222a-4c4e-9700-3ecfb54bf8d5",
   "metadata": {},
   "source": [
    "#### reshape()\n",
    "- ndarray의 기존 shape를 다른 shape로 변경한다.\n"
   ]
  },
  {
   "cell_type": "code",
   "execution_count": 46,
   "id": "ac083a7e-f75c-416a-8ab1-bf05babecd87",
   "metadata": {},
   "outputs": [
    {
     "name": "stdout",
     "output_type": "stream",
     "text": [
      "(8,)\n",
      "[0 1 2 3 4 5 6 7]\n",
      "==============================\n",
      "(2, 4)\n",
      "[[0 1 2 3]\n",
      " [4 5 6 7]]\n",
      "==============================\n",
      "(8, 1)\n",
      "[[0]\n",
      " [1]\n",
      " [2]\n",
      " [3]\n",
      " [4]\n",
      " [5]\n",
      " [6]\n",
      " [7]]\n",
      "==============================\n",
      "(4, 2)\n",
      "[[0 1]\n",
      " [2 3]\n",
      " [4 5]\n",
      " [6 7]]\n",
      "==============================\n"
     ]
    }
   ],
   "source": [
    "ndarray1 = np.arange(8)\n",
    "print(ndarray1.shape)\n",
    "print(ndarray1)\n",
    "\n",
    "print(\"=\"*30)\n",
    "\n",
    "ndarray2 =ndarray1.reshape((2,4))\n",
    "print(ndarray2.shape)\n",
    "print(ndarray2)\n",
    "print(\"=\"*30)\n",
    "\n",
    "ndarray2= ndarray1.reshape((8, -1))\n",
    "print(ndarray2.shape)\n",
    "print(ndarray2)\n",
    "print(\"=\"*30)\n",
    "ndarray2= ndarray1.reshape((-1, 2))\n",
    "print(ndarray2.shape)\n",
    "print(ndarray2)\n",
    "print(\"=\"*30)"
   ]
  },
  {
   "cell_type": "markdown",
   "id": "e45f291d-e453-4c43-aceb-ed56b073bdca",
   "metadata": {},
   "source": [
    "#### Indexing\n",
    "- 특정 위치의 데이터를 가져오는 것\n",
    "- 위치 인덱싱(Location indexing)\n",
    "- 슬라이싱 (Slicing)\n",
    "- 팬시 인덱싱(Fancy indexing)\n",
    "- 불린 인덱싱(Boolean indexing)"
   ]
  },
  {
   "cell_type": "code",
   "execution_count": 54,
   "id": "7f3174b4-f7e5-43d8-ab49-54583207d641",
   "metadata": {},
   "outputs": [
    {
     "name": "stdout",
     "output_type": "stream",
     "text": [
      "[ 2  3  4  5  6  7  8  9 10]\n",
      "4 <class 'numpy.int32'>\n",
      "10 <class 'numpy.int32'>\n",
      "[  2   3   4   5   6   7   8   9 100]\n",
      "9\n"
     ]
    }
   ],
   "source": [
    "# 1차원 위치 인덱싱 : 전달한 위치(인덱스) 값 한 개 추출\n",
    "\n",
    "ndarray1 =  np.arange(start=2,stop=11)\n",
    "print(ndarray1)\n",
    "\n",
    "data = ndarray1[2]\n",
    "print(data, type(data))\n",
    "\n",
    "data = ndarray1[-1]\n",
    "print(data, type(data))\n",
    "\n",
    "ndarray1[-1] = 100\n",
    "print(ndarray1)\n",
    "\n",
    "# 9 가져오기\n",
    "print(ndarray1[-2])"
   ]
  },
  {
   "cell_type": "code",
   "execution_count": 63,
   "id": "8160c28a-746f-4c1d-8f04-6c97470b0efd",
   "metadata": {},
   "outputs": [
    {
     "name": "stdout",
     "output_type": "stream",
     "text": [
      "[1 2 3 4 5 6 7 8 9]\n",
      "[[1 2 3]\n",
      " [4 5 6]\n",
      " [7 8 9]]\n",
      "4\n",
      "5\n",
      "[1 2 3] <class 'numpy.ndarray'>\n"
     ]
    }
   ],
   "source": [
    "# 2차원 위치 인덱싱: 전달한(인덱스) 값 한 개 추출\n",
    "\n",
    "# 1~9 까지 1차원 ndarray 생성\n",
    "ndarray1 = np.arange(start=1, stop=10)\n",
    "print(ndarray1)\n",
    "# 2차원 3행으로 변경\n",
    "ndarray2 = ndarray1.reshape((3,-1))\n",
    "print(ndarray2)\n",
    "\n",
    "print(ndarray2[1,0])\n",
    "print(ndarray2[1,1])\n",
    "print(ndarray2[0], type(ndarray2[0]))"
   ]
  },
  {
   "cell_type": "code",
   "execution_count": 67,
   "id": "b64bb3cb-f15b-4ae5-a88d-c85ff29845c2",
   "metadata": {},
   "outputs": [
    {
     "name": "stdout",
     "output_type": "stream",
     "text": [
      "[2 4 6 8]\n",
      "[2 4 6]\n",
      "[2 4 6 8]\n",
      "[2 4 6] 8\n"
     ]
    }
   ],
   "source": [
    "# 1차원 슬라이싱: 시작 위치와 종료 위치에 해당하는 ndarray 추출\n",
    "\n",
    "ndarray1 = np.arange(start=2, stop=10, step=2)\n",
    "print(ndarray1)\n",
    "\n",
    "print(ndarray1[:3])\n",
    "print(ndarray1[:])\n",
    "print(ndarray1[:-1], ndarray1[-1])"
   ]
  },
  {
   "cell_type": "code",
   "execution_count": 75,
   "id": "bf0630fa-2d8d-40a5-b506-5ab580c8f6f8",
   "metadata": {},
   "outputs": [
    {
     "name": "stdout",
     "output_type": "stream",
     "text": [
      "[ 1  2  3  4  5  6  7  8  9 10 11 12 13 14 15 16 17 18 19 20 21 22 23 24\n",
      " 25 26 27]\n",
      "==============================\n",
      "[[ 1  2  3]\n",
      " [ 4  5  6]\n",
      " [ 7  8  9]\n",
      " [10 11 12]\n",
      " [13 14 15]\n",
      " [16 17 18]\n",
      " [19 20 21]\n",
      " [22 23 24]\n",
      " [25 26 27]]\n",
      "==============================\n",
      "[[1 2]\n",
      " [4 5]\n",
      " [7 8]]\n",
      "==============================\n",
      "[[13 14 15]\n",
      " [16 17 18]\n",
      " [19 20 21]\n",
      " [22 23 24]\n",
      " [25 26 27]]\n",
      "==============================\n",
      "[[25 26 27]\n",
      " [22 23 24]\n",
      " [19 20 21]\n",
      " [16 17 18]\n",
      " [13 14 15]\n",
      " [10 11 12]\n",
      " [ 7  8  9]\n",
      " [ 4  5  6]\n",
      " [ 1  2  3]]\n",
      "==============================\n",
      "[[27 26 25]\n",
      " [24 23 22]\n",
      " [21 20 19]\n",
      " [18 17 16]\n",
      " [15 14 13]\n",
      " [12 11 10]\n",
      " [ 9  8  7]\n",
      " [ 6  5  4]\n",
      " [ 3  2  1]]\n"
     ]
    }
   ],
   "source": [
    "# 2차원 슬라이싱: 시작 위치와 종료 위치에 해당하는 ndarray 추출\n",
    "\n",
    "ndarray1 =np.arange(start=1, stop=28)\n",
    "print(ndarray1)\n",
    "\n",
    "print(\"=\" * 30)\n",
    "\n",
    "ndarray2 = ndarray1.reshape((-1, 3))\n",
    "print(ndarray2)\n",
    "\n",
    "print('=' * 30)\n",
    "\n",
    "print(ndarray2[:3, :2])\n",
    "print('=' * 30)\n",
    "\n",
    "print(ndarray2[4:9])\n",
    "print('=' * 30)\n",
    "\n",
    "print(ndarray2[::-1])\n",
    "print('=' * 30)\n",
    "print(ndarray2[::-1, ::-1])"
   ]
  },
  {
   "cell_type": "code",
   "execution_count": 80,
   "id": "41cfed00-c3eb-4187-9912-fc7d7da9deb8",
   "metadata": {},
   "outputs": [
    {
     "name": "stdout",
     "output_type": "stream",
     "text": [
      "[[ 1  2  3  4  5]\n",
      " [ 6  7  8  9 10]\n",
      " [11 12 13 14 15]\n",
      " [16 17 18 19 20]]\n",
      "==============================\n"
     ]
    },
    {
     "data": {
      "text/plain": [
       "array([[ 3,  4,  5],\n",
       "       [ 8,  9, 10],\n",
       "       [18, 19, 20]])"
      ]
     },
     "execution_count": 80,
     "metadata": {},
     "output_type": "execute_result"
    }
   ],
   "source": [
    "# 팬시 인덱싱: list를 전달해서 한 번에 여러 요소를 추출한다.\n",
    "\n",
    "ndarray1 = np.arange(start=1, stop= 21)\n",
    "ndarray2 = ndarray1.reshape((4, -1))\n",
    "print(ndarray2)\n",
    "\n",
    "print(\"=\" * 30)\n",
    "\n",
    "ndarray2[[0,1,3], 2:5]"
   ]
  },
  {
   "cell_type": "code",
   "execution_count": 84,
   "id": "58f9cef0-af01-4e2b-ae3a-ede3491d9f12",
   "metadata": {},
   "outputs": [
    {
     "name": "stdout",
     "output_type": "stream",
     "text": [
      "[ 10  25  40  55  70  85 100]\n"
     ]
    }
   ],
   "source": [
    "# 불린 인덱싱: True인 위치의 ndarray 추출\n",
    "\n",
    "ndarray1 = np.arange(start=1, stop=101, step=3)\n",
    "print(ndarray1[ndarray1 % 5 == 0])"
   ]
  },
  {
   "cell_type": "markdown",
   "id": "2de6f219-7e4b-4acb-b781-a658df0facd4",
   "metadata": {},
   "source": [
    "#### Sorting\n",
    "- 모두 오름차순 정렬이며, 내림차순은 오름차순 정렬 후 [::-1]을 붙여 사용한다."
   ]
  },
  {
   "cell_type": "code",
   "execution_count": 85,
   "id": "86ee564e-184d-469c-8a08-f322fb46cf5a",
   "metadata": {},
   "outputs": [
    {
     "name": "stdout",
     "output_type": "stream",
     "text": [
      "원본 배열: [0 4 2 5]\n",
      "오름차순으로 정렬된 배열 : [0 2 4 5]\n",
      "내림차순으로 정렬된 배열 : [5 4 2 0]\n"
     ]
    }
   ],
   "source": [
    "# np.sort(ndarray)\n",
    "\n",
    "original_ndarray = np.array([0, 4, 2, 5])\n",
    "sorted_ndarray = np.sort(original_ndarray)\n",
    "\n",
    "print(f'원본 배열: {original_ndarray}')\n",
    "print(f'오름차순으로 정렬된 배열 : {sorted_ndarray}')\n",
    "print(f'내림차순으로 정렬된 배열 : {sorted_ndarray[::-1]}')\n",
    "\n"
   ]
  },
  {
   "cell_type": "code",
   "execution_count": 92,
   "id": "a185a34c-86e1-40b4-8019-8eb34c92adcd",
   "metadata": {},
   "outputs": [
    {
     "name": "stdout",
     "output_type": "stream",
     "text": [
      "원본\n",
      "[[20 18 16 14 12]\n",
      " [10  8  6  4  2]]\n",
      "axis=0 정렬\n",
      "[[10  8  6  4  2]\n",
      " [20 18 16 14 12]]\n",
      "axis=1 정렬\n",
      "[[12 14 16 18 20]\n",
      " [ 2  4  6  8 10]]\n"
     ]
    }
   ],
   "source": [
    "# np.sort(ndarray, axis=n)\n",
    "\n",
    "ndarray1 = np.array([i for i in range(20,0,-2)])\n",
    "ndarray2 = ndarray1.reshape((2, -1))\n",
    "print(f'원본\\n{ndarray2}')\n",
    "sorted_ndarray_axis0 = np.sort(ndarray2, axis=0)\n",
    "print(f'axis=0 정렬\\n{sorted_ndarray_axis0}')\n",
    "sorted_ndarray_axis1 = np.sort(ndarray2, axis=1)\n",
    "print(f'axis=1 정렬\\n{sorted_ndarray_axis1}')"
   ]
  },
  {
   "cell_type": "code",
   "execution_count": 95,
   "id": "de2e8379-5b57-4215-ac9f-a5424431069d",
   "metadata": {},
   "outputs": [
    {
     "name": "stdout",
     "output_type": "stream",
     "text": [
      "정렬 후 원본 인덱스: [0 2 1 3]\n",
      "오름차순으로 정렬된 ndarray: [0 2 3 6]\n"
     ]
    }
   ],
   "source": [
    "# np.argsort(ndarray) -> 정렬 후 인덱스\n",
    "\n",
    "original_ndarray = np.array([0, 3, 2, 6])\n",
    "sorted_indices = np.argsort(original_ndarray)\n",
    "print(f'정렬 후 원본 인덱스: {sorted_indices}')\n",
    "\n",
    "sorted_ndarray = original_ndarray[sorted_indices]\n",
    "print(f'오름차순으로 정렬된 ndarray: {sorted_ndarray}')"
   ]
  },
  {
   "cell_type": "code",
   "execution_count": 98,
   "id": "f430cdb4-4d80-4117-881d-badf6851465a",
   "metadata": {},
   "outputs": [
    {
     "name": "stdout",
     "output_type": "stream",
     "text": [
      "[0 1 3 2 4]\n",
      "['Lamborghini' 'Mclaren' 'Bentley' 'Benz' 'The New Morning']\n",
      "['Lamborghini' 'Mclaren' 'Bentley' 'Benz' 'The New Morning']\n"
     ]
    }
   ],
   "source": [
    "cars = np.array(['Lamborghini', 'Mclaren', 'Benz', 'Bentley', 'The New Morning'])\n",
    "zero100 = np.array([2.8, 2.9, 5.2, 3.7, 13.5])\n",
    "\n",
    "sorted_indices = np.argsort(zero100)\n",
    "print(sorted_indices)\n",
    "sorted_cars = cars[sorted_indices]\n",
    "print(sorted_cars)\n",
    "print(cars[zero100.argsort()])"
   ]
  },
  {
   "cell_type": "markdown",
   "id": "7da94b62-78fe-4d83-b860-ecf61babd176",
   "metadata": {},
   "source": [
    "### 벡터\n",
    "- 데이터 과학에서 벡터란 숫자 자료를 나열한 것을 의미한다.\n",
    "- 벡터는 공간에서 한 점을 나타낸다.\n",
    "- feature 1개당 1차원이고, feature가 3개면 3차원이다.\n",
    "- 이 때, 1차원 좌표평면에서는 열벡터를 표현할 수 있으며, 2차원 좌표평면에서는 2열 데이터를 표현할 수 있게 된다."
   ]
  },
  {
   "cell_type": "markdown",
   "id": "d6486941-e2aa-41d1-8c33-cc6426c4c776",
   "metadata": {},
   "source": [
    "#### 내적 (Dot product)\n",
    "- 두 벡터의 성분들의 곱의 합\n",
    "\n",
    "<img src=\"./images/dot_product.png\" width=\"500px\" style=\"margin-left: 0\"/>"
   ]
  },
  {
   "cell_type": "markdown",
   "id": "7192ed29-76d1-4498-969d-e4ae0431e3c8",
   "metadata": {},
   "source": [
    "#### 선형대수 (Linear Algebra)\n",
    "- 선형 방정식을 풀기 위해 배우는 학문이다.\n",
    "- 4x = 16일 경우, 좌항의 4를 우항으로 넘겨서 x라는 것을 구할 수 있고,  \n",
    "  방정식 1개만으로 해를 구할 수 있다.\n",
    "- y = 2x + 5 일 경우, 미지수가 2개이기 때문에 방정식이 2개 필요하다.\n",
    "- 이러한 연립 방정식을 표현할 때 쉽게 표현하기 위해서 선형대수를 배운다.\n",
    "- "
   ]
  },
  {
   "cell_type": "code",
   "execution_count": 2,
   "id": "d8ba1a11-dddd-433d-b555-c9effd8c49db",
   "metadata": {},
   "outputs": [
    {
     "name": "stdout",
     "output_type": "stream",
     "text": [
      "[[1 2]\n",
      " [3 4]]\n",
      "[[5]\n",
      " [6]]\n",
      "[[17]\n",
      " [39]]\n"
     ]
    }
   ],
   "source": [
    "import numpy as np\n",
    "A = np.array([1,2,3,4]).reshape((2,2))\n",
    "w = np.array([5,6]).reshape((2,1))\n",
    "print(A, w, sep=\"\\n\")\n",
    "print(np.dot(A, w))\n"
   ]
  },
  {
   "cell_type": "code",
   "execution_count": 5,
   "id": "75905b97-3b39-4f1e-9e6e-0ff1072d4ede",
   "metadata": {},
   "outputs": [
    {
     "name": "stdout",
     "output_type": "stream",
     "text": [
      "[[8.]\n",
      " [2.]]\n"
     ]
    }
   ],
   "source": [
    "# x + y = 10\n",
    "# 2x - 3y = 10\n",
    "\n",
    "# Aw = k\n",
    "\n",
    "A = np.array([[1,1],[2, -3]])\n",
    "k = np.array([[10, 10]]).T\n",
    "w = np.dot(np.linalg.inv(A), k)\n",
    "print(w)"
   ]
  },
  {
   "cell_type": "code",
   "execution_count": 6,
   "id": "6fc6051d-ddce-42d0-b261-aeaef81a853d",
   "metadata": {},
   "outputs": [
    {
     "name": "stdout",
     "output_type": "stream",
     "text": [
      "[[ 8.]\n",
      " [-2.]\n",
      " [-1.]]\n"
     ]
    }
   ],
   "source": [
    "# x + 2y + 3z = 1\n",
    "# x + 2y + z = 3\n",
    "# x + 3z = 5\n",
    "\n",
    "A = np.array([[1,2,3],[1,2,1],[1,0,3]])\n",
    "k = np.array([[1,3,5]]).T\n",
    "w = np.dot(np.linalg.inv(A), k)\n",
    "print(w)"
   ]
  },
  {
   "cell_type": "markdown",
   "id": "82c12c26-4aff-4f30-b0f6-1a4e07e0b617",
   "metadata": {},
   "source": [
    "#### 과결정계 (Overdetermined system)\n",
    "- 미지수보다 많은 방정식이 있는 연립방정식으로서 보통 해가 존재하지 않는다.\n",
    "- 3차원 공간에 존재하는 2차원 평면에서 3차원 공간의 해룰 구할 수 없기 때문에,\n",
    "  3차원을 2차원으로 축소해야 하고, 이 때 투영이 필요하다.\n",
    "- 투영시, 원본 값에서 어느정도의 loss(손실)가 발생하지만 이를 감안하고 근사값을 구한다."
   ]
  },
  {
   "cell_type": "code",
   "execution_count": null,
   "id": "69b8abe3-8364-4727-8e35-01e49835b939",
   "metadata": {},
   "outputs": [],
   "source": []
  }
 ],
 "metadata": {
  "kernelspec": {
   "display_name": "Python 3 (ipykernel)",
   "language": "python",
   "name": "python3"
  },
  "language_info": {
   "codemirror_mode": {
    "name": "ipython",
    "version": 3
   },
   "file_extension": ".py",
   "mimetype": "text/x-python",
   "name": "python",
   "nbconvert_exporter": "python",
   "pygments_lexer": "ipython3",
   "version": "3.11.8"
  }
 },
 "nbformat": 4,
 "nbformat_minor": 5
}
