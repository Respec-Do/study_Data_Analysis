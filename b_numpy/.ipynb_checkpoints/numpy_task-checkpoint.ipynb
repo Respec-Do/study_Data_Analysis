{
 "cells": [
  {
   "cell_type": "markdown",
   "id": "9d2bdd21-4950-4b65-ab0a-9cec3bfeddf6",
   "metadata": {},
   "source": [
    "### Numpy Task"
   ]
  },
  {
   "cell_type": "code",
   "execution_count": 1,
   "id": "bb365ef1-f9e1-4e20-8d3b-240fc4a2be95",
   "metadata": {},
   "outputs": [],
   "source": [
    "import numpy as np"
   ]
  },
  {
   "cell_type": "code",
   "execution_count": null,
   "id": "c9aa2b7c-1c03-4054-9f3a-9f2ffb2900d4",
   "metadata": {},
   "outputs": [],
   "source": [
    "# 1~ 10까지의 요소를 ndarray에 담는다.\n",
    "\n",
    "# 3행 2열 list를 ndarray에 담고 각 요소는 순서대로 6, 5, 4, 3, 2, 1이다.\n",
    "\n",
    "# 4행 1열 ndarray, 순서대로 10, 8, 6, 4를 담는다.\n",
    "\n",
    "# 1~10까지 요소를 ndarray에 담고 각 요소에 5 씩 더해준다.\n",
    "\n",
    "# axis 0이 10인 shape이면서 모든 원소가 0, dtype은 int32인 ndarray만들기\n",
    "\n",
    "# axis 0 이 3, axis 1 이 4 인 shape이면서 모든 원소가 1인 ndarray 만들기\n",
    "\n",
    "# axis 0 이 5, 각 요소가 0~ 4 인 ndarray 만들기\n",
    "\n",
    "# 아래의 ndarray1 이 주어졌을 때 순서대로 문제를 해결한다.\n",
    "\n",
    "ndarray1 = np.arange(start=0, stop=16)\n",
    "\n",
    "# 2 Dimension, axis 1 은 2로 변경\n",
    "# 2 Dimension, axis 0 은 8로 변경\n",
    "# 3 Dimension으로 변경\n",
    "# ndarray3 을 axis 1이 1인 2차원 ndarray로 변환\n",
    "# ndarray3 을 1 Dimension으로 변환\n",
    "\n",
    "# 1차원 ndarray 1~ 100까지 값 중 97값 추출하기\n",
    "\n",
    "# 아래의 ndarray1이 주여졌을 때 순서대로 문제를 해결한다.\n",
    "ndarray1 = np.arange(start=0, stop=21)\n",
    "# 2차원 배열 axis0 은 4, axis 1 은 5로 1~ 20 요소 값 중 15 값 추출하기\n",
    "# 2 Dimension, axis 0 은 5로 변경\n",
    "# 2행의 4번째 숫자 출력\n",
    "\n",
    "# 1~100 중 짝수만 출력\n",
    "# 위에서 구한 짝수들을 axis 0이 10인 2차원 배열로 변환후 82~100까지 추출\n",
    "# 위에서 구한 요소 중 (86, 100) 좌표 구하기\n",
    "\n",
    "# 아래의 ndarray1이 주여졌을 때 순서대로 문제를 해결한다.\n",
    "ndarray1 = np.arange(start=0, stop=101)\n",
    "\n",
    "# 각 요소 중 1의 자리수가 2인 수들만 추출하기\n",
    "\n",
    "# 1~ 49 요소 중 2와 5의 공배수 추출하기\n",
    "# 위에서 추출한 공배수 중 20이상인 값만 추출하기\n",
    "\n",
    "# 데이터를 분석하여, 각 수치별 오름차순 및 내림차순 후 이름을 출력하세요.\n",
    "# [[과일이름], [가격]], 가격별 내림차순\n",
    "array1 = [['Mango', 'Apple', 'Pear', 'Pitch', 'Melon'], [1500, 1800, 2000, 2500, 8500]]\n",
    "\n",
    "# [[이름], [나이], [학점]], 나이별 내림차순, 학점별 오름차순\n",
    "array2 = [['둘리', '또치', '길동', '도너', '마이콜'], [7, 9, 40, 5, 20], ['C', 'A', 'B', 'F', 'D']]\n",
    "\n",
    "# [[국가이름], [GDP 성장률]], GDP 성장률별 오름차순\n",
    "array3 = [['한국', '영국', '러시아', '남아프리카 공화국', '미국'], ['1.7%', '-0.6%', '0.3%', '1.2%', '1.4%']]"
   ]
  },
  {
   "cell_type": "code",
   "execution_count": 2,
   "id": "84596100-72f0-4dfd-b6e0-72efd0d155dc",
   "metadata": {},
   "outputs": [
    {
     "name": "stdout",
     "output_type": "stream",
     "text": [
      "[ 1  2  3  4  5  6  7  8  9 10]\n"
     ]
    }
   ],
   "source": [
    "# 1~ 10까지의 요소를 ndarray에 담는다.\n",
    "ndarray1 = np.arange(start=1, stop=11)\n",
    "print(ndarray1)"
   ]
  },
  {
   "cell_type": "code",
   "execution_count": 13,
   "id": "32c2026e-a6c1-49b2-a190-a6ef27284f64",
   "metadata": {},
   "outputs": [
    {
     "name": "stdout",
     "output_type": "stream",
     "text": [
      "[[6 5]\n",
      " [4 3]\n",
      " [2 1]]\n",
      "[[6 5]\n",
      " [4 3]\n",
      " [2 1]]\n"
     ]
    }
   ],
   "source": [
    "# 3행 2열 list를 ndarray에 담고 각 요소는 순서대로 6, 5, 4, 3, 2, 1이다.\n",
    "ndarray2 = np.array([[6, 5],[4, 3], [2,1]])\n",
    "print(ndarray2)\n",
    "ndarray2 = np.arange(start=1, stop=7)[::-1].reshape(3,2)\n",
    "print(ndarray2)"
   ]
  },
  {
   "cell_type": "code",
   "execution_count": 6,
   "id": "88b152c2-b47a-431f-a314-59d2d6e4f0e3",
   "metadata": {},
   "outputs": [
    {
     "name": "stdout",
     "output_type": "stream",
     "text": [
      "[[10]\n",
      " [ 8]\n",
      " [ 6]\n",
      " [ 4]]\n"
     ]
    }
   ],
   "source": [
    "# 4행 1열 ndarray, 순서대로 10, 8, 6, 4를 담는다.\n",
    "ndarray1 = np.array([[10],[8],[6],[4]])\n",
    "print(ndarray1)"
   ]
  },
  {
   "cell_type": "code",
   "execution_count": 9,
   "id": "c5127bc2-1fb9-4523-9af8-56b61a760af6",
   "metadata": {},
   "outputs": [
    {
     "name": "stdout",
     "output_type": "stream",
     "text": [
      "[0 0 0 0 0 0 0 0 0 0]\n"
     ]
    }
   ],
   "source": [
    "# axis 0이 10인 shape이면서 모든 원소가 0, dtype은 int32인 ndarray만들기\n",
    "ndarray1 = np.zeros((10,)).astype(np.int32)\n",
    "print(ndarray1)"
   ]
  },
  {
   "cell_type": "code",
   "execution_count": 15,
   "id": "fc36266c-c864-420b-9786-ce624c011955",
   "metadata": {},
   "outputs": [
    {
     "name": "stdout",
     "output_type": "stream",
     "text": [
      "[[1. 1. 1. 1.]\n",
      " [1. 1. 1. 1.]\n",
      " [1. 1. 1. 1.]]\n"
     ]
    }
   ],
   "source": [
    "# axis 0 이 3, axis 1 이 4 인 shape이면서 모든 원소가 1인 ndarray 만들기\n",
    "ndarray2 = np.ones((3, 4))\n",
    "print(ndarray2)"
   ]
  },
  {
   "cell_type": "code",
   "execution_count": 25,
   "id": "f6555b07-b68f-43d0-a721-a60328e2dcae",
   "metadata": {},
   "outputs": [
    {
     "name": "stdout",
     "output_type": "stream",
     "text": [
      "[0 1 2 3 4]\n",
      "[[0 1 2 3 4]\n",
      " [0 1 2 3 4]\n",
      " [0 1 2 3 4]\n",
      " [0 1 2 3 4]\n",
      " [0 1 2 3 4]]\n"
     ]
    }
   ],
   "source": [
    "# axis 0 이 5, 각 요소가 0~ 4 인 ndarray 만들기\n",
    "ndarray1 = np.arange(start=0, stop=5)\n",
    "print(ndarray1)\n",
    "ndarray2 = np.array([ndarray1] *5 )\n",
    "print(ndarray2)"
   ]
  },
  {
   "cell_type": "code",
   "execution_count": 41,
   "id": "c13eaf07-2804-48a8-9403-ec1ff0a039f1",
   "metadata": {},
   "outputs": [
    {
     "name": "stdout",
     "output_type": "stream",
     "text": [
      "[ 0  1  2  3  4  5  6  7  8  9 10 11 12 13 14 15]\n",
      "==============================\n",
      "[[ 0  1]\n",
      " [ 2  3]\n",
      " [ 4  5]\n",
      " [ 6  7]\n",
      " [ 8  9]\n",
      " [10 11]\n",
      " [12 13]\n",
      " [14 15]]\n",
      "==============================\n",
      "[[ 0  1]\n",
      " [ 2  3]\n",
      " [ 4  5]\n",
      " [ 6  7]\n",
      " [ 8  9]\n",
      " [10 11]\n",
      " [12 13]\n",
      " [14 15]]\n",
      "==============================\n",
      "[[[ 0  1  2  3]\n",
      "  [ 4  5  6  7]]\n",
      "\n",
      " [[ 8  9 10 11]\n",
      "  [12 13 14 15]]]\n",
      "==============================\n",
      "[[ 0]\n",
      " [ 1]\n",
      " [ 2]\n",
      " [ 3]\n",
      " [ 4]\n",
      " [ 5]\n",
      " [ 6]\n",
      " [ 7]\n",
      " [ 8]\n",
      " [ 9]\n",
      " [10]\n",
      " [11]\n",
      " [12]\n",
      " [13]\n",
      " [14]\n",
      " [15]]\n",
      "==============================\n",
      "[ 0  1  2  3  4  5  6  7  8  9 10 11 12 13 14 15]\n"
     ]
    }
   ],
   "source": [
    "# 아래의 ndarray1 이 주어졌을 때 순서대로 문제를 해결한다.\n",
    "\n",
    "ndarray1 = np.arange(start=0, stop=16)\n",
    "\n",
    "# 2 Dimension, axis 1 은 2로 변경\n",
    "print(ndarray1)\n",
    "print(\"=\" * 30)\n",
    "ndarray2 = ndarray1.reshape((-1, 2))\n",
    "print(ndarray2)\n",
    "print(\"=\" * 30)\n",
    "# 2 Dimension, axis 0 은 8로 변경\n",
    "ndarray2 = ndarray1.reshape((8, -1))\n",
    "print(ndarray2)\n",
    "print(\"=\" * 30)\n",
    "# 3 Dimension으로 변경\n",
    "ndarray3 = ndarray1.reshape((2,2,-1))\n",
    "print(ndarray3)\n",
    "print(\"=\" * 30)\n",
    "# ndarray3 을 axis 1이 1인 2차원 ndarray로 변환\n",
    "ndarray2 = ndarray3.reshape((-1,1))\n",
    "print(ndarray2)\n",
    "print(\"=\" * 30)\n",
    "# ndarray3 을 1 Dimension으로 변환\n",
    "ndarray1 = ndarray3.reshape((-1))\n",
    "print(ndarray1)"
   ]
  },
  {
   "cell_type": "code",
   "execution_count": 43,
   "id": "e9895b30-4222-4891-9210-1c4b399f9efe",
   "metadata": {},
   "outputs": [
    {
     "name": "stdout",
     "output_type": "stream",
     "text": [
      "97\n"
     ]
    }
   ],
   "source": [
    "# 1차원 ndarray 1~ 100까지 값 중 97값 추출하기\n",
    "ndarray1 = np.arange(start=1, stop=101)[-4]\n",
    "print(ndarray1)"
   ]
  },
  {
   "cell_type": "code",
   "execution_count": 50,
   "id": "874983ca-34f0-4cd1-815e-e561730fbb29",
   "metadata": {},
   "outputs": [
    {
     "name": "stdout",
     "output_type": "stream",
     "text": [
      "[[ 1  2  3  4  5]\n",
      " [ 6  7  8  9 10]\n",
      " [11 12 13 14 15]\n",
      " [16 17 18 19 20]]\n",
      "==============================\n",
      "15\n",
      "==============================\n",
      "[[ 1  2  3  4]\n",
      " [ 5  6  7  8]\n",
      " [ 9 10 11 12]\n",
      " [13 14 15 16]\n",
      " [17 18 19 20]]\n",
      "==============================\n",
      "12\n"
     ]
    }
   ],
   "source": [
    "# 아래의 ndarray1이 주여졌을 때 순서대로 문제를 해결한다.\n",
    "ndarray1 = np.arange(start=1, stop=21)\n",
    "# 2차원 배열 axis0 은 4, axis 1 은 5로 1~ 20 요소 값 중 15 값 추출하기\n",
    "ndarray2 = ndarray1.reshape((4,-1))\n",
    "print(ndarray2)\n",
    "print(\"=\" * 30)\n",
    "ndarray2_15 = ndarray2[2,4]\n",
    "print(ndarray2_15)\n",
    "print(\"=\" * 30)\n",
    "# 2 Dimension, axis 0 은 5로 변경\n",
    "ndarray2 = ndarray1.reshape((5,-1))\n",
    "print(ndarray2)\n",
    "# 2행의 4번째 숫자 출력\n",
    "print(\"=\" * 30)\n",
    "print(ndarray2[2,3])"
   ]
  },
  {
   "cell_type": "code",
   "execution_count": 69,
   "id": "318f2612-6b41-4cbd-881e-9b80b5fd379b",
   "metadata": {},
   "outputs": [
    {
     "name": "stdout",
     "output_type": "stream",
     "text": [
      "[  2   4   6   8  10  12  14  16  18  20  22  24  26  28  30  32  34  36\n",
      "  38  40  42  44  46  48  50  52  54  56  58  60  62  64  66  68  70  72\n",
      "  74  76  78  80  82  84  86  88  90  92  94  96  98 100]\n",
      "==============================\n",
      "[[  2   4   6   8  10]\n",
      " [ 12  14  16  18  20]\n",
      " [ 22  24  26  28  30]\n",
      " [ 32  34  36  38  40]\n",
      " [ 42  44  46  48  50]\n",
      " [ 52  54  56  58  60]\n",
      " [ 62  64  66  68  70]\n",
      " [ 72  74  76  78  80]\n",
      " [ 82  84  86  88  90]\n",
      " [ 92  94  96  98 100]]\n",
      "==============================\n",
      "[[ 82  84  86  88  90]\n",
      " [ 92  94  96  98 100]]\n",
      "==============================\n",
      "[[ 86  88  90]\n",
      " [ 96  98 100]]\n"
     ]
    }
   ],
   "source": [
    "# 1~100 중 짝수만 출력\n",
    "ndarray1 = np.arange(start=1, stop=101)\n",
    "ndarray1_even = ndarray1[ndarray1 % 2 == 0]\n",
    "print(ndarray1_even)\n",
    "print(\"=\" * 30)\n",
    "# 위에서 구한 짝수들을 axis 0이 10인 2차원 배열로 변환후 82~100까지 추출\n",
    "ndarray2 = ndarray1_even.reshape((10, -1))\n",
    "print(ndarray2)\n",
    "print(\"=\" * 30)\n",
    "print(ndarray2[-2:])\n",
    "print(\"=\" * 30)\n",
    "# 위에서 구한 요소 중 (86, 100) 좌표 구하기\n",
    "print(ndarray2[-2: , 2:5])\n"
   ]
  },
  {
   "cell_type": "code",
   "execution_count": 82,
   "id": "c2ab5acf-b8d7-4ed9-9dbc-034cb5115171",
   "metadata": {},
   "outputs": [
    {
     "name": "stdout",
     "output_type": "stream",
     "text": [
      "[ 2 12 22 32 42 52 62 72 82 92]\n",
      "==============================\n",
      "[ 2  4  5  6  8 10 12 14 15 16 18 20 22 24 25 26 28 30 32 34 35 36 38 40\n",
      " 42 44 45 46 48]\n",
      "==============================\n",
      "[20 22 24 25 26 28 30 32 34 35 36 38 40 42 44 45 46 48]\n"
     ]
    }
   ],
   "source": [
    "# 아래의 ndarray1이 주여졌을 때 순서대로 문제를 해결한다.\n",
    "ndarray1 = np.arange(start=0, stop=101)\n",
    "\n",
    "# 각 요소 중 1의 자리수가 2인 수들만 추출하기\n",
    "original_ndarray = ndarray1[ndarray1 % 10 == 2]\n",
    "print(original_ndarray)\n",
    "print(\"=\" * 30)\n",
    "# 1~ 49 요소 중 2와 5의 공배수 추출하기\n",
    "ndarray1 = np.arange(start=1, stop=50)\n",
    "original_ndarray = ndarray1[(ndarray1 % 2 == 0) | (ndarray1 % 5 == 0)]\n",
    "print(original_ndarray)\n",
    "print('=' * 30)\n",
    "# 위에서 추출한 공배수 중 20이상인 값만 추출하기\n",
    "original_ndarray_more = original_ndarray[original_ndarray >= 20]\n",
    "print(original_ndarray_more)\n"
   ]
  },
  {
   "cell_type": "code",
   "execution_count": 157,
   "id": "a7ccb7a5-f59e-46b8-aac7-d25402201ecf",
   "metadata": {},
   "outputs": [
    {
     "name": "stdout",
     "output_type": "stream",
     "text": [
      "[['Mango' 'Apple' 'Pear' 'Pitch' 'Melon']\n",
      " ['1500' '1800' '2000' '2500' '8500']]\n",
      "==============================\n",
      "['Melon' 'Pitch' 'Pear' 'Apple' 'Mango']\n",
      "==============================\n",
      "[ 7  9 40  5 20]\n",
      "[2 4 1 0 3]\n",
      "==============================\n",
      "['길동' '마이콜' '또치' '둘리' '도너']\n",
      "==============================\n",
      "[1 2 0 4 3]\n",
      "==============================\n",
      "['또치' '길동' '둘리' '마이콜' '도너']\n",
      "==============================\n",
      "[['한국' '영국' '러시아' '남아프리카 공화국' '미국']\n",
      " ['1.7%' '-0.6%' '0.3%' '1.2%' '1.4%']]\n",
      "<class 'list'>\n",
      "[1 2 3 4 0]\n",
      "==============================\n",
      "GDP 성장률별 오름차순 : ['영국' '러시아' '남아프리카 공화국' '미국' '한국']\n"
     ]
    }
   ],
   "source": [
    "# 데이터를 분석하여, 각 수치별 오름차순 및 내림차순 후 이름을 출력하세요.\n",
    "# [[과일이름], [가격]], 가격별 내림차순\n",
    "array1 = [['Mango', 'Apple', 'Pear', 'Pitch', 'Melon'], [1500, 1800, 2000, 2500, 8500]]\n",
    "ndarray1 = np.array(array1)\n",
    "print(ndarray1)\n",
    "print('=' * 30)\n",
    "ndarray1_cost = ndarray1[1]\n",
    "sort_order = ndarray1_cost.argsort()[::-1]\n",
    "print(ndarray1[0][sort_order])\n",
    "print('=' * 30)\n",
    "# [[이름], [나이], [학점]], 나이별 내림차순, 학점별 오름차순\n",
    "array2 = [['둘리', '또치', '길동', '도너', '마이콜'], [7, 9, 40, 5, 20], ['C', 'A', 'B', 'F', 'D']]\n",
    "ndarray2 = np.array(array2)\n",
    "age = ndarray2[1].astype(np.int8)\n",
    "print(age)\n",
    "sort_age = age.argsort()[::-1]\n",
    "print(sort_age)\n",
    "print('=' * 30)\n",
    "sorted_by_age = ndarray2[0][sort_age]\n",
    "print(sorted_by_age)\n",
    "print('=' * 30)\n",
    "grade = ndarray2[2]\n",
    "sorted_grade = grade.argsort()\n",
    "print(sorted_grade)\n",
    "print('=' * 30)\n",
    "sorted_by_grade = ndarray2[0][sorted_grade]\n",
    "print(sorted_by_grade)\n",
    "print('=' * 30)\n",
    "# [[국가이름], [GDP 성장률]], GDP 성장률별 오름차순\n",
    "\n",
    "array3 = [['한국', '영국', '러시아', '남아프리카 공화국', '미국'], ['1.7%', '-0.6%', '0.3%', '1.2%', '1.4%']]\n",
    "ndarray3 = np.array(array3)\n",
    "print(ndarray3)\n",
    "numbers_only = [float(item.rstrip('%')) for item in array3[1]]\n",
    "print(type(numbers_only))\n",
    "sorted_number = np.argsort(numbers_only)\n",
    "print(sorted_number)\n",
    "print('=' * 30)\n",
    "print(f'GDP 성장률별 오름차순 : {ndarray3[0][sorted_number]}')"
   ]
  },
  {
   "cell_type": "code",
   "execution_count": null,
   "id": "59476712-1acb-44d2-847b-4e657613c170",
   "metadata": {},
   "outputs": [],
   "source": []
  },
  {
   "cell_type": "code",
   "execution_count": null,
   "id": "588252c4-9dc7-46f3-bc16-2a54cc8111b6",
   "metadata": {},
   "outputs": [],
   "source": []
  },
  {
   "cell_type": "code",
   "execution_count": null,
   "id": "825f52eb-9c07-4c5a-b830-d071759706f5",
   "metadata": {},
   "outputs": [],
   "source": []
  },
  {
   "cell_type": "code",
   "execution_count": null,
   "id": "341a83ba-d549-4c90-ade0-eab93936e029",
   "metadata": {},
   "outputs": [],
   "source": []
  }
 ],
 "metadata": {
  "kernelspec": {
   "display_name": "Python 3 (ipykernel)",
   "language": "python",
   "name": "python3"
  },
  "language_info": {
   "codemirror_mode": {
    "name": "ipython",
    "version": 3
   },
   "file_extension": ".py",
   "mimetype": "text/x-python",
   "name": "python",
   "nbconvert_exporter": "python",
   "pygments_lexer": "ipython3",
   "version": "3.11.8"
  }
 },
 "nbformat": 4,
 "nbformat_minor": 5
}
